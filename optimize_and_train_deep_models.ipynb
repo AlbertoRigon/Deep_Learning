{
  "nbformat": 4,
  "nbformat_minor": 0,
  "metadata": {
    "colab": {
      "name": "HW2.ipynb",
      "provenance": [],
      "collapsed_sections": []
    },
    "kernelspec": {
      "display_name": "Python 3",
      "name": "python3"
    },
    "accelerator": "GPU"
  },
  "cells": [
    {
      "cell_type": "markdown",
      "metadata": {
        "id": "QUc9frYnVBI_"
      },
      "source": [
        "#**HW 2: Optimize and train Deep Models**\n",
        "\n",
        "In this homework, we will explore how to develop a simple Deep Neural Network for a classification problem. We will explore two common libraries: TensorFlow and Keras.\n",
        "Then we will explore how to face a well known problem that is common to encounter during the training phase: the Overfitting.\n",
        "Finally, we will study how to perform a fair model selection.\n",
        "Hint: Before starting the exercise take a look at how Tensorflow and Keras are designed.  https://keras.io/"
      ]
    },
    {
      "cell_type": "markdown",
      "metadata": {
        "id": "e-Nc7mFSVEiU"
      },
      "source": [
        "##Exercise 2.1: Image Classficiation with Tensorflow and Keras\n",
        "\n",
        "In this first exercise we will develop a 3 layers Neural Network to perfrom classification.\n",
        "\n",
        "Let's start importing the libraries we will need and setting a couple of environmental variables.\n"
      ]
    },
    {
      "cell_type": "code",
      "metadata": {
        "id": "bWn9FzneVqJo"
      },
      "source": [
        "import matplotlib as mpl\n",
        "import matplotlib.pyplot as plt\n",
        "import numpy as np\n",
        "import os\n",
        "import pandas as pd\n",
        "import sklearn\n",
        "import sys\n",
        "import tensorflow as tf\n",
        "from tensorflow import keras  # tf.keras\n",
        "import time\n",
        "\n",
        "import logging\n",
        "logging.disable(logging.WARNING)\n",
        "os.environ[\"TF_CPP_MIN_LOG_LEVEL\"] = \"3\" \n",
        "\n",
        "\n",
        "\n",
        "tf.random.set_seed(42)\n",
        "# os.environ['TF_DETERMINISTIC_OPS']='1'"
      ],
      "execution_count": 1,
      "outputs": []
    },
    {
      "cell_type": "markdown",
      "metadata": {
        "id": "LT2HMYDEXcx0"
      },
      "source": [
        "### Load Data: IMDB dataset\n",
        "\n",
        "In this HW, we use the IMDB dataset that can be easily downloaded using Keras. The dataset contains 50,000 movie reviews from IMDB, labeled by sentiment (positive/negative). Reviews have been preprocessed, and each review is encoded as a sequence of word indexes. For convenience, the words are indexed by the overall frequency in the dataset, so that for example the integer \"3\" encodes the 3rd most frequent word in the data. For testing purposes, we will only consider the first 10,000  most common words.\n",
        "By default, the load_data method returns a breakdown of the dataset into training and test sets. Both these sets contain 25,000 samples. To also have a validation set, we split the test set in half.\n",
        "\n"
      ]
    },
    {
      "cell_type": "code",
      "metadata": {
        "id": "JZv86gBLXj-D",
        "colab": {
          "base_uri": "https://localhost:8080/"
        },
        "outputId": "bef81b9b-9800-4efc-deb0-1a5ffbb5377a"
      },
      "source": [
        "num_words = 1000\n",
        "(X_train, y_train), (X_test, y_test) = keras.datasets.imdb.load_data(num_words=num_words)\n",
        "(X_valid, X_test) = X_test[:12500], X_test[12500:]\n",
        "(y_valid, y_test) = y_test[:12500], y_test[12500:]"
      ],
      "execution_count": 2,
      "outputs": [
        {
          "output_type": "stream",
          "text": [
            "Downloading data from https://storage.googleapis.com/tensorflow/tf-keras-datasets/imdb.npz\n",
            "17465344/17464789 [==============================] - 0s 0us/step\n"
          ],
          "name": "stdout"
        },
        {
          "output_type": "stream",
          "text": [
            "<string>:6: VisibleDeprecationWarning: Creating an ndarray from ragged nested sequences (which is a list-or-tuple of lists-or-tuples-or ndarrays with different lengths or shapes) is deprecated. If you meant to do this, you must specify 'dtype=object' when creating the ndarray\n",
            "/usr/local/lib/python3.7/dist-packages/tensorflow/python/keras/datasets/imdb.py:155: VisibleDeprecationWarning: Creating an ndarray from ragged nested sequences (which is a list-or-tuple of lists-or-tuples-or ndarrays with different lengths or shapes) is deprecated. If you meant to do this, you must specify 'dtype=object' when creating the ndarray\n",
            "  x_train, y_train = np.array(xs[:idx]), np.array(labels[:idx])\n",
            "/usr/local/lib/python3.7/dist-packages/tensorflow/python/keras/datasets/imdb.py:156: VisibleDeprecationWarning: Creating an ndarray from ragged nested sequences (which is a list-or-tuple of lists-or-tuples-or ndarrays with different lengths or shapes) is deprecated. If you meant to do this, you must specify 'dtype=object' when creating the ndarray\n",
            "  x_test, y_test = np.array(xs[idx:]), np.array(labels[idx:])\n"
          ],
          "name": "stderr"
        }
      ]
    },
    {
      "cell_type": "markdown",
      "metadata": {
        "id": "TEZHVHpuPdQF"
      },
      "source": [
        "In this HW we will consider a Deep Neural Network. The IMDB data consists in reviews, each one composed by a seqeunce of words. In order to encode each review in a single tensor with a fixed number of elements, we will use multi-hot encoding. Multi-hot-encoding our lists means turning them into vectors of 0s and 1s. Concretely, this would mean for instance turning the sequence [3, 5] into a 10,000-dimensional vector that would be all-zeros except for indices 3 and 5, which would be ones. The obtained input representation indicates which words are present (at least one time) in the sentence.\n",
        "\n",
        " "
      ]
    },
    {
      "cell_type": "code",
      "metadata": {
        "id": "hxE9DhiFPP0T"
      },
      "source": [
        "def multi_hot_encoder(dataset, num_word):\n",
        "  dataset_multi_hot=[]\n",
        "  for sequence in dataset:\n",
        "    index, _ = tf.unique(sequence)\n",
        "    dataset_multi_hot.append(tf.reduce_max(tf.one_hot(index-1, num_word, dtype=tf.int32), axis=0))\n",
        "  dataset_multi_hot = tf.stack(dataset_multi_hot)\n",
        "  return dataset_multi_hot\n",
        "\n",
        "X_train = multi_hot_encoder(X_train,num_words)\n",
        "X_test = multi_hot_encoder(X_test,num_words)\n",
        "X_valid = multi_hot_encoder(X_valid,num_words)"
      ],
      "execution_count": 3,
      "outputs": []
    },
    {
      "cell_type": "markdown",
      "metadata": {
        "id": "jGUg8TexZMNf"
      },
      "source": [
        "### Define the model:\n",
        "\n",
        "Let's build a Sequential model (keras.models.Sequential) and add four layers to it by calling its add() method:\n",
        "\n",
        "\n",
        "*   a input layer (tf.keras.Input) that is the first layer in your model. With this layer you should specify the input_shape argument, leaving out the batch size: (num_words,);\n",
        "*  a Dense layer (keras.layers.Dense) with 16 neurons, and the \"relu\" activation function;\n",
        "* another Dense layer with 16 neurons, also with the \"relu\" activation function;\n",
        "* a final Dense layer with 1 output neurons, and with the \"sigmoid\" activation (since we considering a binary classification task)."
      ]
    },
    {
      "cell_type": "code",
      "metadata": {
        "id": "OaoEISyaZL56"
      },
      "source": [
        "model = keras.models.Sequential()\n",
        "model.add(tf.keras.Input(shape=(num_words,)))\n",
        "model.add(keras.layers.Dense(16, activation=\"relu\"))\n",
        "model.add(keras.layers.Dense(16, activation=\"relu\"))\n",
        "model.add(keras.layers.Dense(1, activation=\"sigmoid\"))\n",
        "\n"
      ],
      "execution_count": 4,
      "outputs": []
    },
    {
      "cell_type": "markdown",
      "metadata": {
        "id": "fYfxUOQVZljh"
      },
      "source": [
        "Call the model's summary() method to check if the model has been built correctly. Also, try using keras.utils.plot_model() to save an image of your model's architecture."
      ]
    },
    {
      "cell_type": "code",
      "metadata": {
        "id": "IpGkQl5dZoWq",
        "colab": {
          "base_uri": "https://localhost:8080/"
        },
        "outputId": "244fa66e-a91e-4d15-e70a-9d5a79e2c4be"
      },
      "source": [
        "model.summary()"
      ],
      "execution_count": 5,
      "outputs": [
        {
          "output_type": "stream",
          "text": [
            "Model: \"sequential\"\n",
            "_________________________________________________________________\n",
            "Layer (type)                 Output Shape              Param #   \n",
            "=================================================================\n",
            "dense (Dense)                (None, 16)                16016     \n",
            "_________________________________________________________________\n",
            "dense_1 (Dense)              (None, 16)                272       \n",
            "_________________________________________________________________\n",
            "dense_2 (Dense)              (None, 1)                 17        \n",
            "=================================================================\n",
            "Total params: 16,305\n",
            "Trainable params: 16,305\n",
            "Non-trainable params: 0\n",
            "_________________________________________________________________\n"
          ],
          "name": "stdout"
        }
      ]
    },
    {
      "cell_type": "code",
      "metadata": {
        "id": "b1NbkrXRZwOA",
        "colab": {
          "base_uri": "https://localhost:8080/",
          "height": 422
        },
        "outputId": "2f65e032-2b3d-4210-f2b8-27cb5e0b49cb"
      },
      "source": [
        "keras.utils.plot_model(model, \"my_imdb_model.png\", show_shapes=True)"
      ],
      "execution_count": 6,
      "outputs": [
        {
          "output_type": "execute_result",
          "data": {
            "image/png": "[encoded data removed]",
            "text/plain": [
              "<IPython.core.display.Image object>"
            ]
          },
          "metadata": {
            "tags": []
          },
          "execution_count": 6
        }
      ]
    },
    {
      "cell_type": "markdown",
      "metadata": {
        "id": "Mc3xzuA-33WH"
      },
      "source": [
        "As you can see, the first dimension of each layer is not defined (?), indeed this dimension in each layer is variable and depends on the batch size."
      ]
    },
    {
      "cell_type": "markdown",
      "metadata": {
        "id": "6FAjFixuHSA_"
      },
      "source": [
        "Instaed of using *add()* method it is also possibile to define the model using the following syntax"
      ]
    },
    {
      "cell_type": "code",
      "metadata": {
        "id": "yOhr57M9GPHy",
        "colab": {
          "base_uri": "https://localhost:8080/",
          "height": 671
        },
        "outputId": "a937d92b-8137-4e9a-d3be-f5bb1a56b1c1"
      },
      "source": [
        "model = keras.models.Sequential([\n",
        "    tf.keras.Input(shape=(num_words,)),\n",
        "    keras.layers.Dense(16, activation=\"relu\"),\n",
        "    keras.layers.Dense(16, activation=\"relu\"),\n",
        "    keras.layers.Dense(1, activation=\"sigmoid\")\n",
        "])\n",
        "model.summary()\n",
        "keras.utils.plot_model(model, \"my_imdb_model.png\", show_shapes=True)"
      ],
      "execution_count": 7,
      "outputs": [
        {
          "output_type": "stream",
          "text": [
            "Model: \"sequential_1\"\n",
            "_________________________________________________________________\n",
            "Layer (type)                 Output Shape              Param #   \n",
            "=================================================================\n",
            "dense_3 (Dense)              (None, 16)                16016     \n",
            "_________________________________________________________________\n",
            "dense_4 (Dense)              (None, 16)                272       \n",
            "_________________________________________________________________\n",
            "dense_5 (Dense)              (None, 1)                 17        \n",
            "=================================================================\n",
            "Total params: 16,305\n",
            "Trainable params: 16,305\n",
            "Non-trainable params: 0\n",
            "_________________________________________________________________\n"
          ],
          "name": "stdout"
        },
        {
          "output_type": "execute_result",
          "data": {
            "image/png": "[encoded data removed]",
            "text/plain": [
              "<IPython.core.display.Image object>"
            ]
          },
          "metadata": {
            "tags": []
          },
          "execution_count": 7
        }
      ]
    },
    {
      "cell_type": "markdown",
      "metadata": {
        "id": "2ySdJmzxaSuz"
      },
      "source": [
        "### Optimize the model:\n",
        "\n",
        "After the model has been created, you must call its compile() method to specify the loss function and the optimizer to use.\n",
        "\n",
        "Since the model performs a binary classification task, we use the bynary cross-entropy as loss. As optimizer we use Adam.\n",
        "\n",
        "Moreover, you can optionally specify a list of additional metrics that should be measured during training. In this case we specify metrics=[\"accuracy\"]."
      ]
    },
    {
      "cell_type": "code",
      "metadata": {
        "id": "x3bbsY3uaeh5"
      },
      "source": [
        "model.compile(loss=\"binary_crossentropy\",\n",
        "              optimizer=keras.optimizers.Adam(learning_rate=1e-4),\n",
        "              metrics=[\"accuracy\"])"
      ],
      "execution_count": 8,
      "outputs": []
    },
    {
      "cell_type": "markdown",
      "metadata": {
        "id": "NB9SV0MpaeTg"
      },
      "source": [
        "Now our model is ready to be trained. Call its fit() method, passing to it the input features (X_train) and the target classes (y_train). Set the number of epochs to 20. \n",
        "In order to validate our model we will also pass the validation data by setting validation_data=(X_valid, y_valid). Keras will compute the loss and the additional metrics (the accuracy in this case) on the validation set at the end of each epoch. If the loss on the training set is much lower than the one on the validation set, your model is probably overfitting the training set. Note: the fit() method will return a History object containing training stats."
      ]
    },
    {
      "cell_type": "code",
      "metadata": {
        "id": "5whx-LU3aoKn",
        "colab": {
          "base_uri": "https://localhost:8080/"
        },
        "outputId": "2e58ed18-617d-4f8f-eba0-defde65a9afd"
      },
      "source": [
        "history = model.fit(X_train, y_train, epochs=20,\n",
        "                    validation_data=(X_valid, y_valid))"
      ],
      "execution_count": 9,
      "outputs": [
        {
          "output_type": "stream",
          "text": [
            "Epoch 1/20\n",
            "782/782 [==============================] - 6s 3ms/step - loss: 0.6226 - accuracy: 0.6698 - val_loss: 0.5086 - val_accuracy: 0.7899\n",
            "Epoch 2/20\n",
            "782/782 [==============================] - 2s 3ms/step - loss: 0.4251 - accuracy: 0.8259 - val_loss: 0.3856 - val_accuracy: 0.8406\n",
            "Epoch 3/20\n",
            "782/782 [==============================] - 2s 3ms/step - loss: 0.3515 - accuracy: 0.8555 - val_loss: 0.3534 - val_accuracy: 0.8515\n",
            "Epoch 4/20\n",
            "782/782 [==============================] - 2s 3ms/step - loss: 0.3258 - accuracy: 0.8657 - val_loss: 0.3407 - val_accuracy: 0.8543\n",
            "Epoch 5/20\n",
            "782/782 [==============================] - 2s 3ms/step - loss: 0.3138 - accuracy: 0.8703 - val_loss: 0.3377 - val_accuracy: 0.8555\n",
            "Epoch 6/20\n",
            "782/782 [==============================] - 2s 3ms/step - loss: 0.3072 - accuracy: 0.8726 - val_loss: 0.3344 - val_accuracy: 0.8565\n",
            "Epoch 7/20\n",
            "782/782 [==============================] - 2s 3ms/step - loss: 0.3027 - accuracy: 0.8751 - val_loss: 0.3344 - val_accuracy: 0.8562\n",
            "Epoch 8/20\n",
            "782/782 [==============================] - 2s 3ms/step - loss: 0.2999 - accuracy: 0.8773 - val_loss: 0.3344 - val_accuracy: 0.8557\n",
            "Epoch 9/20\n",
            "782/782 [==============================] - 2s 3ms/step - loss: 0.2977 - accuracy: 0.8778 - val_loss: 0.3352 - val_accuracy: 0.8549\n",
            "Epoch 10/20\n",
            "782/782 [==============================] - 2s 3ms/step - loss: 0.2958 - accuracy: 0.8784 - val_loss: 0.3355 - val_accuracy: 0.8552\n",
            "Epoch 11/20\n",
            "782/782 [==============================] - 2s 3ms/step - loss: 0.2941 - accuracy: 0.8794 - val_loss: 0.3366 - val_accuracy: 0.8539\n",
            "Epoch 12/20\n",
            "782/782 [==============================] - 2s 3ms/step - loss: 0.2926 - accuracy: 0.8794 - val_loss: 0.3373 - val_accuracy: 0.8549\n",
            "Epoch 13/20\n",
            "782/782 [==============================] - 2s 3ms/step - loss: 0.2909 - accuracy: 0.8812 - val_loss: 0.3393 - val_accuracy: 0.8543\n",
            "Epoch 14/20\n",
            "782/782 [==============================] - 2s 3ms/step - loss: 0.2897 - accuracy: 0.8819 - val_loss: 0.3387 - val_accuracy: 0.8536\n",
            "Epoch 15/20\n",
            "782/782 [==============================] - 2s 3ms/step - loss: 0.2883 - accuracy: 0.8821 - val_loss: 0.3398 - val_accuracy: 0.8538\n",
            "Epoch 16/20\n",
            "782/782 [==============================] - 2s 3ms/step - loss: 0.2864 - accuracy: 0.8834 - val_loss: 0.3405 - val_accuracy: 0.8534\n",
            "Epoch 17/20\n",
            "782/782 [==============================] - 2s 3ms/step - loss: 0.2849 - accuracy: 0.8841 - val_loss: 0.3418 - val_accuracy: 0.8546\n",
            "Epoch 18/20\n",
            "782/782 [==============================] - 2s 3ms/step - loss: 0.2832 - accuracy: 0.8847 - val_loss: 0.3427 - val_accuracy: 0.8542\n",
            "Epoch 19/20\n",
            "782/782 [==============================] - 2s 3ms/step - loss: 0.2817 - accuracy: 0.8859 - val_loss: 0.3433 - val_accuracy: 0.8526\n",
            "Epoch 20/20\n",
            "782/782 [==============================] - 2s 3ms/step - loss: 0.2793 - accuracy: 0.8860 - val_loss: 0.3445 - val_accuracy: 0.8531\n"
          ],
          "name": "stdout"
        }
      ]
    },
    {
      "cell_type": "markdown",
      "metadata": {
        "id": "EPxiw8iCADr-"
      },
      "source": [
        "Let's plot the loss and the accuracy trends on both training and validation sets. We define the \"plot_learning_acc_and_loss\" function because we will reuse it in the next steps."
      ]
    },
    {
      "cell_type": "code",
      "metadata": {
        "id": "AJg-F7mUa7st",
        "colab": {
          "base_uri": "https://localhost:8080/",
          "height": 320
        },
        "outputId": "564c0e7d-ceb0-4e7c-a980-aee34c59a38b"
      },
      "source": [
        "def plot_learning_acc_and_loss(history):\n",
        "    pd.DataFrame(history.history).plot(figsize=(8, 5))\n",
        "    plt.grid(True)\n",
        "    plt.show()\n",
        "plot_learning_acc_and_loss(history)"
      ],
      "execution_count": 10,
      "outputs": [
        {
          "output_type": "display_data",
          "data": {
            "image/png": "[encoded data removed]",
            "text/plain": [
              "<Figure size 576x360 with 1 Axes>"
            ]
          },
          "metadata": {
            "tags": [],
            "needs_background": "light"
          }
        }
      ]
    },
    {
      "cell_type": "markdown",
      "metadata": {
        "id": "9O3-sLmxansJ"
      },
      "source": [
        "### [TO COMPLETE] Evaluate the model:\n",
        "\n",
        "Now, our model has been optimized on the training set, and as you can see the performance on the validation set in quite similar (so it does not overfit the training data). Let's now evaluate the performance of our model using the test set."
      ]
    },
    {
      "cell_type": "code",
      "metadata": {
        "id": "q-ZvJEcObdyB",
        "colab": {
          "base_uri": "https://localhost:8080/"
        },
        "outputId": "b1e725db-3f70-43e7-92e4-71f0afd07330"
      },
      "source": [
        "model.evaluate(X_test, y_test)"
      ],
      "execution_count": 11,
      "outputs": [
        {
          "output_type": "stream",
          "text": [
            "391/391 [==============================] - 1s 2ms/step - loss: 0.3227 - accuracy: 0.8662\n"
          ],
          "name": "stdout"
        },
        {
          "output_type": "execute_result",
          "data": {
            "text/plain": [
              "[0.32265689969062805, 0.8662400245666504]"
            ]
          },
          "metadata": {
            "tags": []
          },
          "execution_count": 11
        }
      ]
    },
    {
      "cell_type": "markdown",
      "metadata": {
        "id": "KTSxlnwrII-n"
      },
      "source": [
        "[TO COMPLETE] Explain why it is important to use test and validation, and why it is important to evaluate the model on the test set instead of the validation set. Finally, explain which is the usefulness of the validation set. Insert the discussion in this cell."
      ]
    },
    {
      "cell_type": "markdown",
      "metadata": {
        "id": "NwvSynYlJBMr"
      },
      "source": [
        "The main reason for which we need a test set is to compute the generalization error, that provides a measure of how well does our model generalize for a given task. The validation set instead is used in order to learn hyperparameters, i.e., parameters or settings of the learning algorithm that control its behaviour. Therefore, hyperparameters cannot be learned using the training set, because in this way they would assume values that would maximize the training accuracy while decreasing the ability of the model to generalize new examples that it has never seen (i.e., its generalization capability), thus introducing overfitting. The generalization error must be an unbiased measure with respect to how the model behaves and how it has learned to solve the task (i.e. by using the training set and validation set), therefore we cannot use the validation set to evaluate the performance of our model."
      ]
    },
    {
      "cell_type": "markdown",
      "metadata": {
        "id": "aeGlzKe864Gq"
      },
      "source": [
        "## [TO COMPLETE] Exercise 2.2: Overfiting\n",
        "\n",
        "A common problem that occurs when you train a deep neural network is overfittig. Overfitting occurs when you achieve a good fit of your model on the training data, while it does not generalize well on new, unseen data. In other words, the model learned patterns specific to the training data, which are irrelevant in other data.\n",
        "As we have seen in the previous exercise, our model does not overfit the training data. In this exercise, we try to modify the training parameters in order to have a model that overfits.\n",
        "Overfitting can have many causes and usually is a combination of some of them, for instance: too many parameters/ layers, too few training samples, wrong learning rate (usualy too high), etc..\n",
        "\n",
        "[TO COMPLETE] In the next cell define a new model (similar to the previuos one) that overfits the training data; then plot the trend of the loss in training and validation set."
      ]
    },
    {
      "cell_type": "code",
      "metadata": {
        "id": "T2B2DFEC8f88",
        "colab": {
          "base_uri": "https://localhost:8080/"
        },
        "outputId": "6ca73d2d-ec7f-4c94-deb9-e159e2442667"
      },
      "source": [
        "model = keras.models.Sequential()\n",
        "#[TO COMPLETE] modify the previuos model in order to obtain a new mdel that overfit the training data\n",
        "model.add(tf.keras.Input(shape=(num_words,)))\n",
        "model.add(keras.layers.Dense(16, activation=\"relu\"))\n",
        "model.add(keras.layers.Dense(35, activation=\"relu\"))\n",
        "model.add(keras.layers.Dense(16, activation=\"relu\"))\n",
        "model.add(keras.layers.Dense(1, activation=\"sigmoid\"))\n",
        "\n",
        "model.summary()\n",
        "\n",
        "model.compile(loss=\"binary_crossentropy\",\n",
        "              optimizer=keras.optimizers.Adam(learning_rate=1e-4),#[TO COMPLETE] learning rate\n",
        "              metrics=[\"accuracy\"])\n",
        "\n",
        "history = model.fit(X_train, y_train, epochs=30,#[TO COMPLETE] epochs\n",
        "                    validation_data=(X_valid, y_valid))\n",
        "\n",
        "print(\"Model Evaluation\")\n",
        "model.evaluate(X_test, y_test)"
      ],
      "execution_count": 12,
      "outputs": [
        {
          "output_type": "stream",
          "text": [
            "Model: \"sequential_2\"\n",
            "_________________________________________________________________\n",
            "Layer (type)                 Output Shape              Param #   \n",
            "=================================================================\n",
            "dense_6 (Dense)              (None, 16)                16016     \n",
            "_________________________________________________________________\n",
            "dense_7 (Dense)              (None, 35)                595       \n",
            "_________________________________________________________________\n",
            "dense_8 (Dense)              (None, 16)                576       \n",
            "_________________________________________________________________\n",
            "dense_9 (Dense)              (None, 1)                 17        \n",
            "=================================================================\n",
            "Total params: 17,204\n",
            "Trainable params: 17,204\n",
            "Non-trainable params: 0\n",
            "_________________________________________________________________\n",
            "Epoch 1/30\n",
            "782/782 [==============================] - 3s 3ms/step - loss: 0.5741 - accuracy: 0.7116 - val_loss: 0.4446 - val_accuracy: 0.8093\n",
            "Epoch 2/30\n",
            "782/782 [==============================] - 2s 3ms/step - loss: 0.3779 - accuracy: 0.8382 - val_loss: 0.3676 - val_accuracy: 0.8397\n",
            "Epoch 3/30\n",
            "782/782 [==============================] - 2s 3ms/step - loss: 0.3310 - accuracy: 0.8634 - val_loss: 0.3509 - val_accuracy: 0.8490\n",
            "Epoch 4/30\n",
            "782/782 [==============================] - 2s 3ms/step - loss: 0.3138 - accuracy: 0.8694 - val_loss: 0.3440 - val_accuracy: 0.8540\n",
            "Epoch 5/30\n",
            "782/782 [==============================] - 2s 3ms/step - loss: 0.3049 - accuracy: 0.8745 - val_loss: 0.3418 - val_accuracy: 0.8545\n",
            "Epoch 6/30\n",
            "782/782 [==============================] - 2s 3ms/step - loss: 0.3000 - accuracy: 0.8760 - val_loss: 0.3393 - val_accuracy: 0.8560\n",
            "Epoch 7/30\n",
            "782/782 [==============================] - 2s 3ms/step - loss: 0.2957 - accuracy: 0.8792 - val_loss: 0.3413 - val_accuracy: 0.8552\n",
            "Epoch 8/30\n",
            "782/782 [==============================] - 2s 3ms/step - loss: 0.2921 - accuracy: 0.8808 - val_loss: 0.3409 - val_accuracy: 0.8550\n",
            "Epoch 9/30\n",
            "782/782 [==============================] - 2s 3ms/step - loss: 0.2880 - accuracy: 0.8830 - val_loss: 0.3427 - val_accuracy: 0.8548\n",
            "Epoch 10/30\n",
            "782/782 [==============================] - 2s 3ms/step - loss: 0.2843 - accuracy: 0.8845 - val_loss: 0.3428 - val_accuracy: 0.8546\n",
            "Epoch 11/30\n",
            "782/782 [==============================] - 2s 3ms/step - loss: 0.2798 - accuracy: 0.8866 - val_loss: 0.3466 - val_accuracy: 0.8521\n",
            "Epoch 12/30\n",
            "782/782 [==============================] - 2s 3ms/step - loss: 0.2752 - accuracy: 0.8878 - val_loss: 0.3467 - val_accuracy: 0.8525\n",
            "Epoch 13/30\n",
            "782/782 [==============================] - 2s 3ms/step - loss: 0.2695 - accuracy: 0.8915 - val_loss: 0.3512 - val_accuracy: 0.8515\n",
            "Epoch 14/30\n",
            "782/782 [==============================] - 2s 3ms/step - loss: 0.2649 - accuracy: 0.8942 - val_loss: 0.3522 - val_accuracy: 0.8494\n",
            "Epoch 15/30\n",
            "782/782 [==============================] - 2s 3ms/step - loss: 0.2594 - accuracy: 0.8962 - val_loss: 0.3550 - val_accuracy: 0.8487\n",
            "Epoch 16/30\n",
            "782/782 [==============================] - 2s 3ms/step - loss: 0.2533 - accuracy: 0.8986 - val_loss: 0.3597 - val_accuracy: 0.8482\n",
            "Epoch 17/30\n",
            "782/782 [==============================] - 2s 3ms/step - loss: 0.2479 - accuracy: 0.9020 - val_loss: 0.3666 - val_accuracy: 0.8444\n",
            "Epoch 18/30\n",
            "782/782 [==============================] - 2s 3ms/step - loss: 0.2426 - accuracy: 0.9038 - val_loss: 0.3698 - val_accuracy: 0.8422\n",
            "Epoch 19/30\n",
            "782/782 [==============================] - 2s 3ms/step - loss: 0.2371 - accuracy: 0.9062 - val_loss: 0.3708 - val_accuracy: 0.8451\n",
            "Epoch 20/30\n",
            "782/782 [==============================] - 2s 3ms/step - loss: 0.2311 - accuracy: 0.9090 - val_loss: 0.3801 - val_accuracy: 0.8438\n",
            "Epoch 21/30\n",
            "782/782 [==============================] - 2s 3ms/step - loss: 0.2265 - accuracy: 0.9120 - val_loss: 0.3846 - val_accuracy: 0.8420\n",
            "Epoch 22/30\n",
            "782/782 [==============================] - 2s 3ms/step - loss: 0.2211 - accuracy: 0.9118 - val_loss: 0.3914 - val_accuracy: 0.8406\n",
            "Epoch 23/30\n",
            "782/782 [==============================] - 2s 3ms/step - loss: 0.2157 - accuracy: 0.9163 - val_loss: 0.3972 - val_accuracy: 0.8394\n",
            "Epoch 24/30\n",
            "782/782 [==============================] - 2s 3ms/step - loss: 0.2109 - accuracy: 0.9170 - val_loss: 0.4034 - val_accuracy: 0.8419\n",
            "Epoch 25/30\n",
            "782/782 [==============================] - 2s 3ms/step - loss: 0.2058 - accuracy: 0.9194 - val_loss: 0.4144 - val_accuracy: 0.8391\n",
            "Epoch 26/30\n",
            "782/782 [==============================] - 2s 3ms/step - loss: 0.2015 - accuracy: 0.9220 - val_loss: 0.4207 - val_accuracy: 0.8358\n",
            "Epoch 27/30\n",
            "782/782 [==============================] - 2s 3ms/step - loss: 0.1963 - accuracy: 0.9238 - val_loss: 0.4274 - val_accuracy: 0.8375\n",
            "Epoch 28/30\n",
            "782/782 [==============================] - 2s 3ms/step - loss: 0.1918 - accuracy: 0.9256 - val_loss: 0.4345 - val_accuracy: 0.8349\n",
            "Epoch 29/30\n",
            "782/782 [==============================] - 2s 3ms/step - loss: 0.1864 - accuracy: 0.9281 - val_loss: 0.4435 - val_accuracy: 0.8332\n",
            "Epoch 30/30\n",
            "782/782 [==============================] - 2s 3ms/step - loss: 0.1822 - accuracy: 0.9306 - val_loss: 0.4497 - val_accuracy: 0.8306\n",
            "Model Evaluation\n",
            "391/391 [==============================] - 1s 2ms/step - loss: 0.4217 - accuracy: 0.8416\n"
          ],
          "name": "stdout"
        },
        {
          "output_type": "execute_result",
          "data": {
            "text/plain": [
              "[0.42168858647346497, 0.8416000008583069]"
            ]
          },
          "metadata": {
            "tags": []
          },
          "execution_count": 12
        }
      ]
    },
    {
      "cell_type": "markdown",
      "metadata": {
        "id": "MS0fujEqh_m3"
      },
      "source": [
        "Define the plot_learning_curves function that plots inly the losses (not the accuracy)."
      ]
    },
    {
      "cell_type": "code",
      "metadata": {
        "id": "q5EsklC0DZYH",
        "colab": {
          "base_uri": "https://localhost:8080/",
          "height": 336
        },
        "outputId": "08207d70-2394-4467-85f8-fd84da3a9124"
      },
      "source": [
        "def plot_learning_curves(history):\n",
        "    plt.figure(figsize=(8, 5))\n",
        "    plt.plot(history.epoch,history.history['loss'], label='train loss')\n",
        "    plt.plot(history.epoch,history.history['val_loss'], label='valid loss')\n",
        "    plt.legend()\n",
        "    plt.title('loss')\n",
        "    plt.grid(True)\n",
        "    plt.show()\n",
        "plot_learning_curves(history)"
      ],
      "execution_count": 13,
      "outputs": [
        {
          "output_type": "display_data",
          "data": {
            "image/png": "[encoded data removed]",
            "text/plain": [
              "<Figure size 576x360 with 1 Axes>"
            ]
          },
          "metadata": {
            "tags": [],
            "needs_background": "light"
          }
        }
      ]
    },
    {
      "cell_type": "markdown",
      "metadata": {
        "id": "OW4Kf4fgDfOs"
      },
      "source": [
        "### [TO COMPLETE] L1 norm\n",
        "\n",
        "One possible way to solve the overitting issue is by using regularization methods. The two most common regularization methods in Deep Learning are the L1-norm regularization and the L2-norm regularization. Both These techniques are based on limiting the capacity of models, by adding a parameter norm penalty to the objective function $\\mathcal{J}$:\n",
        "$$\n",
        "\\hat{\\mathcal{J}}(\\theta,\\mathbf{X},\\mathbf{y}) = \\mathcal{J}(\\theta,\\mathbf{X},\\mathbf{y}) + \\alpha \\Omega(\\theta)\n",
        "$$\n",
        "where $\\alpha$ is a hyperparameter that weighs the relative contribution of the norm penalty $\\Omega$.\n",
        "Lets start by considering the L1-norm regularization where the regularization term is defined as:\n",
        "$$\n",
        " \\Omega(\\theta)=||\\mathbf{W}||_1=\\sum_i |\\mathbf{w}|\n",
        "$$\n",
        "Let's find the values for the $\\alpha$ parameters that allow to remove the overfitting effect."
      ]
    },
    {
      "cell_type": "code",
      "metadata": {
        "id": "QzD8520dDgw3",
        "colab": {
          "base_uri": "https://localhost:8080/",
          "height": 1000
        },
        "outputId": "44269a38-02b7-498c-c724-65861825199b"
      },
      "source": [
        "#In Keras is neccesary to add the regularizer by using the attribute kernel_regularizer\n",
        "#to each layer whose weights will be considered in the Omega function.\n",
        "#is it also possibile to consider the bias by using the attribute bias_regularizer \n",
        "#tf.keras.regularizers.l1(alpha) perfroms the L1-norm regularization\n",
        "\n",
        "#[TO COMPLETE] copy the model that you previously defined that overfits the \n",
        "#trainnig data, and add the L1-norm regularization. Use a proper value for the\n",
        "#alpha hyper-parameter, that prevents the model from overfitting. The results  \n",
        "#reached by the model in terms of loss and accuracy (in all data sets) should be\n",
        "#comparable with the ones obtained by the initial model defined in Exercise 2.1 \n",
        "\n",
        "#In general, a layer that exploits L1-norm regularization is defined as follows:\n",
        "\n",
        "#model.add(keras.layers.Dense(units=[TO COMPLETE], activation=[TO COMPLETE], kernel_regularizer=tf.keras.regularizers.l1([TO COMPLETE]))) \n",
        "\n",
        "model = keras.models.Sequential()\n",
        "model.add(tf.keras.Input(shape=(num_words,)))\n",
        "model.add(keras.layers.Dense(16, activation=\"relu\", kernel_regularizer=tf.keras.regularizers.l1(0.0003), bias_regularizer=tf.keras.regularizers.l1(0.0003)))\n",
        "model.add(keras.layers.Dense(35, activation=\"relu\", kernel_regularizer=tf.keras.regularizers.l1(0.0003), bias_regularizer=tf.keras.regularizers.l1(0.0003)))\n",
        "model.add(keras.layers.Dense(16, activation=\"relu\", kernel_regularizer=tf.keras.regularizers.l1(0.0003), bias_regularizer=tf.keras.regularizers.l1(0.0003)))\n",
        "model.add(keras.layers.Dense(1, activation=\"sigmoid\"))\n",
        "\n",
        "\n",
        "model.compile(loss=\"binary_crossentropy\",\n",
        "              optimizer=keras.optimizers.Adam(learning_rate=1e-4),#[TO COMPLETE] learning rate\n",
        "              metrics=[\"accuracy\"])\n",
        "\n",
        "history = model.fit(X_train, y_train, epochs=25,#[TO COMPLETE] epochs\n",
        "                    validation_data=(X_valid, y_valid))\n",
        "\n",
        "print(\"Model Evaluation\")\n",
        "model.evaluate(X_test, y_test)\n",
        "plot_learning_curves(history)"
      ],
      "execution_count": 16,
      "outputs": [
        {
          "output_type": "stream",
          "text": [
            "Epoch 1/25\n",
            "782/782 [==============================] - 3s 4ms/step - loss: 0.7974 - accuracy: 0.7070 - val_loss: 0.6327 - val_accuracy: 0.8145\n",
            "Epoch 2/25\n",
            "782/782 [==============================] - 3s 3ms/step - loss: 0.5579 - accuracy: 0.8432 - val_loss: 0.5265 - val_accuracy: 0.8491\n",
            "Epoch 3/25\n",
            "782/782 [==============================] - 3s 3ms/step - loss: 0.4917 - accuracy: 0.8628 - val_loss: 0.4971 - val_accuracy: 0.8540\n",
            "Epoch 4/25\n",
            "782/782 [==============================] - 3s 3ms/step - loss: 0.4645 - accuracy: 0.8699 - val_loss: 0.4847 - val_accuracy: 0.8558\n",
            "Epoch 5/25\n",
            "782/782 [==============================] - 3s 3ms/step - loss: 0.4489 - accuracy: 0.8740 - val_loss: 0.4728 - val_accuracy: 0.8578\n",
            "Epoch 6/25\n",
            "782/782 [==============================] - 3s 3ms/step - loss: 0.4385 - accuracy: 0.8740 - val_loss: 0.4646 - val_accuracy: 0.8562\n",
            "Epoch 7/25\n",
            "782/782 [==============================] - 3s 3ms/step - loss: 0.4301 - accuracy: 0.8747 - val_loss: 0.4616 - val_accuracy: 0.8555\n",
            "Epoch 8/25\n",
            "782/782 [==============================] - 3s 3ms/step - loss: 0.4234 - accuracy: 0.8766 - val_loss: 0.4536 - val_accuracy: 0.8572\n",
            "Epoch 9/25\n",
            "782/782 [==============================] - 3s 3ms/step - loss: 0.4172 - accuracy: 0.8768 - val_loss: 0.4505 - val_accuracy: 0.8558\n",
            "Epoch 10/25\n",
            "782/782 [==============================] - 3s 3ms/step - loss: 0.4124 - accuracy: 0.8768 - val_loss: 0.4456 - val_accuracy: 0.8559\n",
            "Epoch 11/25\n",
            "782/782 [==============================] - 3s 3ms/step - loss: 0.4077 - accuracy: 0.8772 - val_loss: 0.4435 - val_accuracy: 0.8558\n",
            "Epoch 12/25\n",
            "782/782 [==============================] - 3s 3ms/step - loss: 0.4038 - accuracy: 0.8755 - val_loss: 0.4388 - val_accuracy: 0.8565\n",
            "Epoch 13/25\n",
            "782/782 [==============================] - 3s 3ms/step - loss: 0.3991 - accuracy: 0.8758 - val_loss: 0.4373 - val_accuracy: 0.8557\n",
            "Epoch 14/25\n",
            "782/782 [==============================] - 3s 3ms/step - loss: 0.3962 - accuracy: 0.8780 - val_loss: 0.4332 - val_accuracy: 0.8546\n",
            "Epoch 15/25\n",
            "782/782 [==============================] - 3s 3ms/step - loss: 0.3932 - accuracy: 0.8767 - val_loss: 0.4306 - val_accuracy: 0.8558\n",
            "Epoch 16/25\n",
            "782/782 [==============================] - 3s 3ms/step - loss: 0.3892 - accuracy: 0.8791 - val_loss: 0.4290 - val_accuracy: 0.8556\n",
            "Epoch 17/25\n",
            "782/782 [==============================] - 3s 3ms/step - loss: 0.3866 - accuracy: 0.8775 - val_loss: 0.4284 - val_accuracy: 0.8552\n",
            "Epoch 18/25\n",
            "782/782 [==============================] - 3s 3ms/step - loss: 0.3839 - accuracy: 0.8779 - val_loss: 0.4261 - val_accuracy: 0.8550\n",
            "Epoch 19/25\n",
            "782/782 [==============================] - 3s 3ms/step - loss: 0.3810 - accuracy: 0.8787 - val_loss: 0.4216 - val_accuracy: 0.8558\n",
            "Epoch 20/25\n",
            "782/782 [==============================] - 3s 3ms/step - loss: 0.3775 - accuracy: 0.8797 - val_loss: 0.4210 - val_accuracy: 0.8556\n",
            "Epoch 21/25\n",
            "782/782 [==============================] - 3s 3ms/step - loss: 0.3751 - accuracy: 0.8801 - val_loss: 0.4194 - val_accuracy: 0.8550\n",
            "Epoch 22/25\n",
            "782/782 [==============================] - 3s 3ms/step - loss: 0.3732 - accuracy: 0.8800 - val_loss: 0.4180 - val_accuracy: 0.8559\n",
            "Epoch 23/25\n",
            "782/782 [==============================] - 3s 3ms/step - loss: 0.3702 - accuracy: 0.8810 - val_loss: 0.4184 - val_accuracy: 0.8539\n",
            "Epoch 24/25\n",
            "782/782 [==============================] - 3s 3ms/step - loss: 0.3683 - accuracy: 0.8814 - val_loss: 0.4158 - val_accuracy: 0.8560\n",
            "Epoch 25/25\n",
            "782/782 [==============================] - 3s 3ms/step - loss: 0.3660 - accuracy: 0.8818 - val_loss: 0.4151 - val_accuracy: 0.8550\n",
            "Model Evaluation\n",
            "391/391 [==============================] - 1s 2ms/step - loss: 0.3946 - accuracy: 0.8658\n"
          ],
          "name": "stdout"
        },
        {
          "output_type": "display_data",
          "data": {
            "image/png": "[encoded data removed]",
            "text/plain": [
              "<Figure size 576x360 with 1 Axes>"
            ]
          },
          "metadata": {
            "tags": [],
            "needs_background": "light"
          }
        }
      ]
    },
    {
      "cell_type": "markdown",
      "metadata": {
        "id": "CgnCGYUvDqbC"
      },
      "source": [
        "### [TO COMPLETE] L2-norm\n",
        "\n",
        "L2-norm regularization is also known as weight decay. This strategy drives the weights closer to the origin by adding the regularization term omega which is defined as:\n",
        "$$\n",
        " \\Omega(\\theta)=\\frac{1}{2}||\\mathbf{W}||_2^2\n",
        "$$\n",
        "\n",
        "Let's find the values for the $\\alpha$ parameters that allow removing remove the overfitting effect with L2-norm."
      ]
    },
    {
      "cell_type": "code",
      "metadata": {
        "id": "qqNhu350DtJo",
        "colab": {
          "base_uri": "https://localhost:8080/",
          "height": 1000
        },
        "outputId": "30341899-09c6-4e2d-b807-2fba60f1bbdf"
      },
      "source": [
        "#[TO COMPLETE] insert the model that you previously defined that overfit the \n",
        "#trainig data, and add the L2-norm regularization. Use proper values for the\n",
        "#alpha hyper-parameters, that prevents the model from overfitting. The results  \n",
        "#reached by the model in terms of loss and accuracy (in all data sets) should be\n",
        "#comparable with the ones obtained by the initial model defined in Exercise 2.1\n",
        "\n",
        "#In general, a layer that exploits L2-norm regularization is defined as follow:\n",
        "\n",
        "#model.add(keras.layers.Dense(units=[TO COMPLETE], activation=[TO COMPLETE],kernel_regularizer=tf.keras.regularizers.l2([TO COMPLETE]))) \n",
        "model = keras.models.Sequential()\n",
        "#[TO COMPLETE]\n",
        "model.add(tf.keras.Input(shape=(num_words,)))\n",
        "model.add(keras.layers.Dense(16, activation=\"relu\", kernel_regularizer=tf.keras.regularizers.l2(0.004), bias_regularizer=tf.keras.regularizers.l2(0.004)))\n",
        "model.add(keras.layers.Dense(35, activation=\"relu\", kernel_regularizer=tf.keras.regularizers.l2(0.004), bias_regularizer=tf.keras.regularizers.l2(0.004)))\n",
        "model.add(keras.layers.Dense(16, activation=\"relu\", kernel_regularizer=tf.keras.regularizers.l2(0.004), bias_regularizer=tf.keras.regularizers.l2(0.004)))\n",
        "model.add(keras.layers.Dense(1, activation=\"sigmoid\"))\n",
        "\n",
        "model.compile(loss=\"binary_crossentropy\",\n",
        "              optimizer=keras.optimizers.Adam(learning_rate=1e-4),#[TO COMPLETE] learning rate\n",
        "              metrics=[\"accuracy\"])\n",
        "\n",
        "history = model.fit(X_train, y_train, epochs=30,#[TO COMPLETE] epochs\n",
        "                    validation_data=(X_valid, y_valid))\n",
        "\n",
        "print(\"Model Evaluation\")\n",
        "model.evaluate(X_test, y_test)\n",
        "plot_learning_curves(history)"
      ],
      "execution_count": 17,
      "outputs": [
        {
          "output_type": "stream",
          "text": [
            "Epoch 1/30\n",
            "782/782 [==============================] - 3s 3ms/step - loss: 0.8665 - accuracy: 0.6474 - val_loss: 0.6725 - val_accuracy: 0.7965\n",
            "Epoch 2/30\n",
            "782/782 [==============================] - 3s 3ms/step - loss: 0.5602 - accuracy: 0.8356 - val_loss: 0.5111 - val_accuracy: 0.8434\n",
            "Epoch 3/30\n",
            "782/782 [==============================] - 3s 3ms/step - loss: 0.4690 - accuracy: 0.8602 - val_loss: 0.4691 - val_accuracy: 0.8537\n",
            "Epoch 4/30\n",
            "782/782 [==============================] - 3s 3ms/step - loss: 0.4351 - accuracy: 0.8689 - val_loss: 0.4538 - val_accuracy: 0.8546\n",
            "Epoch 5/30\n",
            "782/782 [==============================] - 3s 3ms/step - loss: 0.4177 - accuracy: 0.8723 - val_loss: 0.4408 - val_accuracy: 0.8580\n",
            "Epoch 6/30\n",
            "782/782 [==============================] - 3s 3ms/step - loss: 0.4079 - accuracy: 0.8738 - val_loss: 0.4337 - val_accuracy: 0.8577\n",
            "Epoch 7/30\n",
            "782/782 [==============================] - 3s 3ms/step - loss: 0.4009 - accuracy: 0.8742 - val_loss: 0.4318 - val_accuracy: 0.8563\n",
            "Epoch 8/30\n",
            "782/782 [==============================] - 3s 3ms/step - loss: 0.3957 - accuracy: 0.8761 - val_loss: 0.4259 - val_accuracy: 0.8568\n",
            "Epoch 9/30\n",
            "782/782 [==============================] - 3s 3ms/step - loss: 0.3908 - accuracy: 0.8757 - val_loss: 0.4235 - val_accuracy: 0.8560\n",
            "Epoch 10/30\n",
            "782/782 [==============================] - 3s 3ms/step - loss: 0.3871 - accuracy: 0.8760 - val_loss: 0.4198 - val_accuracy: 0.8571\n",
            "Epoch 11/30\n",
            "782/782 [==============================] - 3s 3ms/step - loss: 0.3834 - accuracy: 0.8755 - val_loss: 0.4188 - val_accuracy: 0.8562\n",
            "Epoch 12/30\n",
            "782/782 [==============================] - 3s 3ms/step - loss: 0.3802 - accuracy: 0.8756 - val_loss: 0.4148 - val_accuracy: 0.8576\n",
            "Epoch 13/30\n",
            "782/782 [==============================] - 3s 3ms/step - loss: 0.3764 - accuracy: 0.8758 - val_loss: 0.4139 - val_accuracy: 0.8562\n",
            "Epoch 14/30\n",
            "782/782 [==============================] - 3s 3ms/step - loss: 0.3739 - accuracy: 0.8774 - val_loss: 0.4109 - val_accuracy: 0.8570\n",
            "Epoch 15/30\n",
            "782/782 [==============================] - 3s 3ms/step - loss: 0.3715 - accuracy: 0.8775 - val_loss: 0.4090 - val_accuracy: 0.8568\n",
            "Epoch 16/30\n",
            "782/782 [==============================] - 3s 3ms/step - loss: 0.3680 - accuracy: 0.8790 - val_loss: 0.4080 - val_accuracy: 0.8558\n",
            "Epoch 17/30\n",
            "782/782 [==============================] - 3s 3ms/step - loss: 0.3657 - accuracy: 0.8785 - val_loss: 0.4079 - val_accuracy: 0.8554\n",
            "Epoch 18/30\n",
            "782/782 [==============================] - 3s 3ms/step - loss: 0.3635 - accuracy: 0.8786 - val_loss: 0.4063 - val_accuracy: 0.8546\n",
            "Epoch 19/30\n",
            "782/782 [==============================] - 3s 3ms/step - loss: 0.3609 - accuracy: 0.8796 - val_loss: 0.4028 - val_accuracy: 0.8570\n",
            "Epoch 20/30\n",
            "782/782 [==============================] - 3s 3ms/step - loss: 0.3579 - accuracy: 0.8809 - val_loss: 0.4024 - val_accuracy: 0.8558\n",
            "Epoch 21/30\n",
            "782/782 [==============================] - 3s 3ms/step - loss: 0.3559 - accuracy: 0.8810 - val_loss: 0.4013 - val_accuracy: 0.8552\n",
            "Epoch 22/30\n",
            "782/782 [==============================] - 3s 3ms/step - loss: 0.3542 - accuracy: 0.8803 - val_loss: 0.4012 - val_accuracy: 0.8550\n",
            "Epoch 23/30\n",
            "782/782 [==============================] - 3s 3ms/step - loss: 0.3517 - accuracy: 0.8822 - val_loss: 0.4021 - val_accuracy: 0.8534\n",
            "Epoch 24/30\n",
            "782/782 [==============================] - 3s 3ms/step - loss: 0.3497 - accuracy: 0.8820 - val_loss: 0.3995 - val_accuracy: 0.8565\n",
            "Epoch 25/30\n",
            "782/782 [==============================] - 3s 3ms/step - loss: 0.3477 - accuracy: 0.8841 - val_loss: 0.3995 - val_accuracy: 0.8544\n",
            "Epoch 26/30\n",
            "782/782 [==============================] - 3s 3ms/step - loss: 0.3459 - accuracy: 0.8834 - val_loss: 0.4040 - val_accuracy: 0.8513\n",
            "Epoch 27/30\n",
            "782/782 [==============================] - 3s 3ms/step - loss: 0.3436 - accuracy: 0.8845 - val_loss: 0.3977 - val_accuracy: 0.8561\n",
            "Epoch 28/30\n",
            "782/782 [==============================] - 3s 3ms/step - loss: 0.3417 - accuracy: 0.8858 - val_loss: 0.3978 - val_accuracy: 0.8561\n",
            "Epoch 29/30\n",
            "782/782 [==============================] - 3s 3ms/step - loss: 0.3389 - accuracy: 0.8855 - val_loss: 0.3980 - val_accuracy: 0.8558\n",
            "Epoch 30/30\n",
            "782/782 [==============================] - 3s 3ms/step - loss: 0.3376 - accuracy: 0.8864 - val_loss: 0.3990 - val_accuracy: 0.8554\n",
            "Model Evaluation\n",
            "391/391 [==============================] - 1s 2ms/step - loss: 0.3814 - accuracy: 0.8622\n"
          ],
          "name": "stdout"
        },
        {
          "output_type": "display_data",
          "data": {
            "image/png": "[encoded data removed]",
            "text/plain": [
              "<Figure size 576x360 with 1 Axes>"
            ]
          },
          "metadata": {
            "tags": [],
            "needs_background": "light"
          }
        }
      ]
    },
    {
      "cell_type": "markdown",
      "metadata": {
        "id": "xvyKPb4DD25G"
      },
      "source": [
        "###[TO COMPLETE] Early stopping\n",
        "\n",
        "Early Stopping is a form of regularization used to avoid overfitting. It is designed to monitor the generalization error of one model and stop training when generalization error begins to degrade. In order to evaluate the generalization error, early stopping requires that a validation dataset is evaluated during training. Then, when the validation error does not improve for a specific number of epochs (patience hyper-parameter), it stops the training phase."
      ]
    },
    {
      "cell_type": "code",
      "metadata": {
        "id": "MqNOOZ11D7cq",
        "colab": {
          "base_uri": "https://localhost:8080/",
          "height": 727
        },
        "outputId": "8b826529-52c0-4423-eeb4-24fd15c34d7e"
      },
      "source": [
        "#[TO COMPLETE] insert the model that you previously defined that overfit the \n",
        "#trainnig data\n",
        "model = keras.models.Sequential()\n",
        "model.add(tf.keras.Input(shape=(num_words,)))\n",
        "model.add(keras.layers.Dense(16, activation=\"relu\"))\n",
        "model.add(keras.layers.Dense(35, activation=\"relu\"))\n",
        "model.add(keras.layers.Dense(16, activation=\"relu\"))\n",
        "model.add(keras.layers.Dense(1, activation=\"sigmoid\"))\n",
        "\n",
        "\n",
        "model.compile(loss=\"binary_crossentropy\",\n",
        "              optimizer=keras.optimizers.Adam(learning_rate=1e-4),#[TO COMPLETE] learning rate\n",
        "\n",
        "              metrics=[\"accuracy\"])\n",
        "\n",
        "#Let's define a log dir in order to save the checkpoint file\n",
        "logdir = os.path.join(os.curdir, \"my_logs\", \"run_{}\".format(time.time()))\n",
        "\n",
        "#In Keras the Eraly stopping is manage by using the callbacks argument.\n",
        "callbacks = [\n",
        "    keras.callbacks.TensorBoard(logdir),\n",
        "    keras.callbacks.EarlyStopping(patience=4),#[TO COMPLETE] play with patience and find the value that prevents the model from overfitting.\n",
        "\n",
        "\n",
        "    #Saving the checkpoints file allows to load the \"best\" model when the Early \n",
        "    #stopping detect that the generalization error degrade (after 'patience' epochs)\n",
        "    keras.callbacks.ModelCheckpoint(\"my_mnist_model.h5\", save_best_only=True),\n",
        "]\n",
        "\n",
        "history = model.fit(X_train, y_train, epochs=30,#[TO COMPLETE] epochs\n",
        "                    validation_data=(X_valid, y_valid),\n",
        "                    callbacks=callbacks)\n",
        "\n",
        "print(\"Model Evaluation\")\n",
        "#The early stopping stopped training after few epochs without progress, so your\n",
        "#model may already have started to overfit the training set. Since the \n",
        "#ModelCheckpoint callback only saved the best models (on the validation set) the\n",
        "#last saved model is the best on the validation set.\n",
        "model = keras.models.load_model(\"my_mnist_model.h5\")\n",
        "model.evaluate(X_test, y_test)\n",
        "plot_learning_curves(history)"
      ],
      "execution_count": 18,
      "outputs": [
        {
          "output_type": "stream",
          "text": [
            "Epoch 1/30\n",
            "782/782 [==============================] - 3s 4ms/step - loss: 0.5907 - accuracy: 0.6969 - val_loss: 0.4475 - val_accuracy: 0.8084\n",
            "Epoch 2/30\n",
            "782/782 [==============================] - 3s 3ms/step - loss: 0.3817 - accuracy: 0.8408 - val_loss: 0.3626 - val_accuracy: 0.8422\n",
            "Epoch 3/30\n",
            "782/782 [==============================] - 2s 3ms/step - loss: 0.3323 - accuracy: 0.8619 - val_loss: 0.3464 - val_accuracy: 0.8502\n",
            "Epoch 4/30\n",
            "782/782 [==============================] - 2s 3ms/step - loss: 0.3153 - accuracy: 0.8701 - val_loss: 0.3413 - val_accuracy: 0.8534\n",
            "Epoch 5/30\n",
            "782/782 [==============================] - 2s 3ms/step - loss: 0.3071 - accuracy: 0.8739 - val_loss: 0.3390 - val_accuracy: 0.8547\n",
            "Epoch 6/30\n",
            "782/782 [==============================] - 3s 3ms/step - loss: 0.3029 - accuracy: 0.8761 - val_loss: 0.3374 - val_accuracy: 0.8551\n",
            "Epoch 7/30\n",
            "782/782 [==============================] - 2s 3ms/step - loss: 0.2997 - accuracy: 0.8758 - val_loss: 0.3390 - val_accuracy: 0.8539\n",
            "Epoch 8/30\n",
            "782/782 [==============================] - 2s 3ms/step - loss: 0.2976 - accuracy: 0.8792 - val_loss: 0.3379 - val_accuracy: 0.8539\n",
            "Epoch 9/30\n",
            "782/782 [==============================] - 2s 3ms/step - loss: 0.2953 - accuracy: 0.8783 - val_loss: 0.3390 - val_accuracy: 0.8530\n",
            "Epoch 10/30\n",
            "782/782 [==============================] - 2s 3ms/step - loss: 0.2934 - accuracy: 0.8798 - val_loss: 0.3386 - val_accuracy: 0.8531\n",
            "Model Evaluation\n",
            "391/391 [==============================] - 1s 2ms/step - loss: 0.3187 - accuracy: 0.8654\n"
          ],
          "name": "stdout"
        },
        {
          "output_type": "display_data",
          "data": {
            "image/png": "[encoded data removed]",
            "text/plain": [
              "<Figure size 576x360 with 1 Axes>"
            ]
          },
          "metadata": {
            "tags": [],
            "needs_background": "light"
          }
        }
      ]
    },
    {
      "cell_type": "markdown",
      "metadata": {
        "id": "DCV8pwVzl9GK"
      },
      "source": [
        "## Exercise 2.3: Model Selection\n",
        "\n",
        "Hyperparameters are the parameters of the learning method itself which we have to specify a priori, i.e., before model fitting. In contrast, model parameters are parameters which arise as a result of the fit (the network weights). The aim of model selection is selecting the best hyperparameters for our deep network. Finding the right hyperparameters for a model can be crucial for the model performance on given data. For istance lets consider our model trained by using different values for the learning rate: "
      ]
    },
    {
      "cell_type": "code",
      "metadata": {
        "id": "Fw8Hs-AEmLKh"
      },
      "source": [
        "learning_rates = [1e-4, 1e-2, 1e-1]"
      ],
      "execution_count": 19,
      "outputs": []
    },
    {
      "cell_type": "code",
      "metadata": {
        "id": "mym4GOgUmWqD",
        "colab": {
          "base_uri": "https://localhost:8080/"
        },
        "outputId": "c3b2a0a0-44c6-4570-f83e-2c7dbbf36b39"
      },
      "source": [
        "histories = []\n",
        "for learning_rate in learning_rates:\n",
        "    model = keras.models.Sequential([\n",
        "                                    tf.keras.Input(shape=(num_words,)),\n",
        "                                    keras.layers.Dense(16, activation=\"relu\"),\n",
        "                                    keras.layers.Dense(16, activation=\"relu\"),\n",
        "                                    keras.layers.Dense(1, activation=\"sigmoid\")\n",
        "                                     ])\n",
        "    model.compile(loss=\"binary_crossentropy\",\n",
        "              optimizer=keras.optimizers.Adam(learning_rate=learning_rate),\n",
        "              metrics=[\"accuracy\"])\n",
        "              \n",
        "    callbacks = [keras.callbacks.EarlyStopping(patience=2)]\n",
        "\n",
        "    history = model.fit(X_train, y_train,\n",
        "                        validation_data=(X_valid, y_valid), epochs=10,\n",
        "                        callbacks=callbacks)\n",
        "    histories.append(history)\n",
        "    print(\"evaluation on test set\")\n",
        "    model.evaluate(X_test, y_test)"
      ],
      "execution_count": 20,
      "outputs": [
        {
          "output_type": "stream",
          "text": [
            "Epoch 1/10\n",
            "782/782 [==============================] - 3s 4ms/step - loss: 0.6027 - accuracy: 0.6812 - val_loss: 0.4692 - val_accuracy: 0.8045\n",
            "Epoch 2/10\n",
            "782/782 [==============================] - 2s 3ms/step - loss: 0.4006 - accuracy: 0.8352 - val_loss: 0.3740 - val_accuracy: 0.8439\n",
            "Epoch 3/10\n",
            "782/782 [==============================] - 3s 3ms/step - loss: 0.3416 - accuracy: 0.8583 - val_loss: 0.3500 - val_accuracy: 0.8537\n",
            "Epoch 4/10\n",
            "782/782 [==============================] - 2s 3ms/step - loss: 0.3197 - accuracy: 0.8690 - val_loss: 0.3398 - val_accuracy: 0.8575\n",
            "Epoch 5/10\n",
            "782/782 [==============================] - 2s 3ms/step - loss: 0.3089 - accuracy: 0.8726 - val_loss: 0.3392 - val_accuracy: 0.8566\n",
            "Epoch 6/10\n",
            "782/782 [==============================] - 2s 3ms/step - loss: 0.3028 - accuracy: 0.8761 - val_loss: 0.3364 - val_accuracy: 0.8560\n",
            "Epoch 7/10\n",
            "782/782 [==============================] - 2s 3ms/step - loss: 0.2983 - accuracy: 0.8773 - val_loss: 0.3369 - val_accuracy: 0.8565\n",
            "Epoch 8/10\n",
            "782/782 [==============================] - 2s 3ms/step - loss: 0.2951 - accuracy: 0.8788 - val_loss: 0.3372 - val_accuracy: 0.8563\n",
            "evaluation on test set\n",
            "391/391 [==============================] - 1s 2ms/step - loss: 0.3176 - accuracy: 0.8655\n",
            "Epoch 1/10\n",
            "782/782 [==============================] - 3s 3ms/step - loss: 0.3667 - accuracy: 0.8366 - val_loss: 0.3391 - val_accuracy: 0.8485\n",
            "Epoch 2/10\n",
            "782/782 [==============================] - 2s 3ms/step - loss: 0.3140 - accuracy: 0.8639 - val_loss: 0.3382 - val_accuracy: 0.8526\n",
            "Epoch 3/10\n",
            "782/782 [==============================] - 2s 3ms/step - loss: 0.2959 - accuracy: 0.8725 - val_loss: 0.3484 - val_accuracy: 0.8469\n",
            "Epoch 4/10\n",
            "782/782 [==============================] - 2s 3ms/step - loss: 0.2781 - accuracy: 0.8809 - val_loss: 0.3628 - val_accuracy: 0.8455\n",
            "evaluation on test set\n",
            "391/391 [==============================] - 1s 2ms/step - loss: 0.3368 - accuracy: 0.8586\n",
            "Epoch 1/10\n",
            "782/782 [==============================] - 3s 3ms/step - loss: 0.4630 - accuracy: 0.7865 - val_loss: 0.3942 - val_accuracy: 0.8329\n",
            "Epoch 2/10\n",
            "782/782 [==============================] - 2s 3ms/step - loss: 0.4403 - accuracy: 0.8014 - val_loss: 0.4150 - val_accuracy: 0.8311\n",
            "Epoch 3/10\n",
            "782/782 [==============================] - 2s 3ms/step - loss: 0.3669 - accuracy: 0.8495 - val_loss: 0.4284 - val_accuracy: 0.8416\n",
            "evaluation on test set\n",
            "391/391 [==============================] - 1s 2ms/step - loss: 0.3938 - accuracy: 0.8566\n"
          ],
          "name": "stdout"
        }
      ]
    },
    {
      "cell_type": "markdown",
      "metadata": {
        "id": "RzTSjfwptkHJ"
      },
      "source": [
        "Let's plot the results"
      ]
    },
    {
      "cell_type": "code",
      "metadata": {
        "id": "cIlN1vlioIYh",
        "colab": {
          "base_uri": "https://localhost:8080/",
          "height": 980
        },
        "outputId": "b8aa89e6-7985-4196-e595-4602945df671"
      },
      "source": [
        "for learning_rate, history in zip(learning_rates, histories):\n",
        "    print(\"Learning rate:\", learning_rate)\n",
        "    plot_learning_acc_and_loss(history)"
      ],
      "execution_count": 21,
      "outputs": [
        {
          "output_type": "stream",
          "text": [
            "Learning rate: 0.0001\n"
          ],
          "name": "stdout"
        },
        {
          "output_type": "display_data",
          "data": {
            "image/png": "[encoded data removed]",
            "text/plain": [
              "<Figure size 576x360 with 1 Axes>"
            ]
          },
          "metadata": {
            "tags": [],
            "needs_background": "light"
          }
        },
        {
          "output_type": "stream",
          "text": [
            "Learning rate: 0.01\n"
          ],
          "name": "stdout"
        },
        {
          "output_type": "display_data",
          "data": {
            "image/png": "[encoded data removed]",
            "text/plain": [
              "<Figure size 576x360 with 1 Axes>"
            ]
          },
          "metadata": {
            "tags": [],
            "needs_background": "light"
          }
        },
        {
          "output_type": "stream",
          "text": [
            "Learning rate: 0.1\n"
          ],
          "name": "stdout"
        },
        {
          "output_type": "display_data",
          "data": {
            "image/png": "[encoded data removed]",
            "text/plain": [
              "<Figure size 576x360 with 1 Axes>"
            ]
          },
          "metadata": {
            "tags": [],
            "needs_background": "light"
          }
        }
      ]
    },
    {
      "cell_type": "markdown",
      "metadata": {
        "id": "_JntujSWq3e5"
      },
      "source": [
        "### [TO COMPLETE] GRID Search:\n",
        "\n",
        "Since a deep net has many hyperparameters, in order to find the best ones, we have to consider all the possible combinations of all of the possible values. One common method to perform this complex task is Grid-Search.\n",
        "Given a set of values for each hyper-parameter, Grid-Search will build a model on each parameter combination possible. It iterates through every parameter combination and stores a model for each combination. Finally, the model that obtained the best result on the validation set will be select.\n",
        "\n",
        "In order to perfrom Grid-Search we will use the GridSearchCV method from scikit-learn."
      ]
    },
    {
      "cell_type": "markdown",
      "metadata": {
        "id": "CPz629YSrDhN"
      },
      "source": [
        "Let's Create a build_model() function that takes two arguments, n_neurons, learning_rate, and builds, compiles and returns a model with the given number of of neurons and the given learning rate.\n",
        "In order to limit the time requirements of the process we will consider only these two hyper-paramters.\n",
        "\n",
        "[TO COMPLETE] in the following code cell define the build_model function."
      ]
    },
    {
      "cell_type": "code",
      "metadata": {
        "id": "oGSKWTTtqxZ4"
      },
      "source": [
        "def build_model(n_units=30, learning_rate=1e-3):\n",
        "    # The function has to build a model similar to the ones we used in previuous execises:\n",
        "    #- a input layer \n",
        "    #- one or two Dense layers composed of n_units and that exploit Relu activation function \n",
        "    #- the output layer that uses the sigmoid activation function\n",
        "    # Then, the model has to be compiled.\n",
        "    model = keras.models.Sequential([\n",
        "                                    tf.keras.Input(shape=(num_words,)),\n",
        "                                    keras.layers.Dense(n_units, activation=\"relu\"),\n",
        "                                    keras.layers.Dense(1, activation=\"sigmoid\")\n",
        "                                     ])\n",
        "    \n",
        "    # [TO COMPLETE] Then, the model has to be compiled.\n",
        "    model.compile(loss=\"binary_crossentropy\",\n",
        "              optimizer=keras.optimizers.Adam(learning_rate=learning_rate),\n",
        "              metrics=[\"accuracy\"])\n",
        "    \n",
        "    return model\n",
        "\n",
        "    \n",
        "#Create a keras.wrappers.scikit_learn.KerasRegressor and pass the build_model \n",
        "#function to the constructor. This gives you a Scikit-Learn compatible predictor\n",
        "keras_reg = keras.wrappers.scikit_learn.KerasRegressor(build_model)"
      ],
      "execution_count": 23,
      "outputs": []
    },
    {
      "cell_type": "markdown",
      "metadata": {
        "id": "PS6W3A2LxDg5"
      },
      "source": [
        "Let's define the lists of hyper-parameters' values. Also in this case, we use a very limited size lists, but in a real-world scenario a reasonable amount of possible values should be considered (try to add some values and check how much the time required to perform the Grid-Search increases)"
      ]
    },
    {
      "cell_type": "code",
      "metadata": {
        "id": "y-uldCW3ru24"
      },
      "source": [
        "param_distribs = {\n",
        "    \"n_units\": [10, 30, 50], # [TO COMPLETE] insert a list that contains few (2 or 3) reasonable value\n",
        "    \"learning_rate\": [1e-4, 1e-5, 2e-4] #[TO COMPLETE] insert a list that contains few (2 or 3) reasonable values\n",
        "    #Check how the time required to perform GRID search increases when increasing the number of values for each hyper-parameter.\n",
        "}"
      ],
      "execution_count": 24,
      "outputs": []
    },
    {
      "cell_type": "markdown",
      "metadata": {
        "id": "bEiBxVYtx_sK"
      },
      "source": [
        "Use a sklearn.model_selection.GridSearchCV to search the hyperparameter space of your KerasRegressor"
      ]
    },
    {
      "cell_type": "code",
      "metadata": {
        "id": "iobF2Bvdr9ER"
      },
      "source": [
        "from sklearn.model_selection import GridSearchCV\n",
        "\n",
        "grid_search = GridSearchCV(keras_reg, param_distribs)"
      ],
      "execution_count": 25,
      "outputs": []
    },
    {
      "cell_type": "markdown",
      "metadata": {
        "id": "LVGMcZz_yKSX"
      },
      "source": [
        "Run the Grid-Search"
      ]
    },
    {
      "cell_type": "code",
      "metadata": {
        "id": "-BA3vgTjr-hw",
        "colab": {
          "base_uri": "https://localhost:8080/"
        },
        "outputId": "62234888-ec51-4c23-f4ce-86520cdcbe8d"
      },
      "source": [
        "\n",
        "grid_search.fit(X_train.numpy(), y_train, epochs=5,#The number of epochs can be modified (check what happens by increasing it)\n",
        "                validation_data=(X_valid.numpy(), y_valid))"
      ],
      "execution_count": 26,
      "outputs": [
        {
          "output_type": "stream",
          "text": [
            "Epoch 1/5\n",
            "625/625 [==============================] - 2s 3ms/step - loss: 0.6656 - accuracy: 0.6007 - val_loss: 0.6004 - val_accuracy: 0.7174\n",
            "Epoch 2/5\n",
            "625/625 [==============================] - 2s 3ms/step - loss: 0.5242 - accuracy: 0.7868 - val_loss: 0.4818 - val_accuracy: 0.8113\n",
            "Epoch 3/5\n",
            "625/625 [==============================] - 2s 3ms/step - loss: 0.4343 - accuracy: 0.8349 - val_loss: 0.4229 - val_accuracy: 0.8330\n",
            "Epoch 4/5\n",
            "625/625 [==============================] - 2s 2ms/step - loss: 0.3862 - accuracy: 0.8515 - val_loss: 0.3896 - val_accuracy: 0.8446\n",
            "Epoch 5/5\n",
            "625/625 [==============================] - 2s 2ms/step - loss: 0.3567 - accuracy: 0.8615 - val_loss: 0.3700 - val_accuracy: 0.8498\n",
            "157/157 [==============================] - 0s 2ms/step - loss: 0.3640 - accuracy: 0.8478\n",
            "Epoch 1/5\n",
            "625/625 [==============================] - 2s 3ms/step - loss: 0.6305 - accuracy: 0.6427 - val_loss: 0.5355 - val_accuracy: 0.7573\n",
            "Epoch 2/5\n",
            "625/625 [==============================] - 2s 2ms/step - loss: 0.4705 - accuracy: 0.8029 - val_loss: 0.4354 - val_accuracy: 0.8207\n",
            "Epoch 3/5\n",
            "625/625 [==============================] - 2s 3ms/step - loss: 0.3995 - accuracy: 0.8411 - val_loss: 0.3909 - val_accuracy: 0.8398\n",
            "Epoch 4/5\n",
            "625/625 [==============================] - 2s 3ms/step - loss: 0.3621 - accuracy: 0.8547 - val_loss: 0.3663 - val_accuracy: 0.8470\n",
            "Epoch 5/5\n",
            "625/625 [==============================] - 2s 3ms/step - loss: 0.3408 - accuracy: 0.8633 - val_loss: 0.3531 - val_accuracy: 0.8513\n",
            "157/157 [==============================] - 0s 2ms/step - loss: 0.3477 - accuracy: 0.8502\n",
            "Epoch 1/5\n",
            "625/625 [==============================] - 2s 3ms/step - loss: 0.6026 - accuracy: 0.6819 - val_loss: 0.5053 - val_accuracy: 0.7860\n",
            "Epoch 2/5\n",
            "625/625 [==============================] - 2s 2ms/step - loss: 0.4434 - accuracy: 0.8202 - val_loss: 0.4188 - val_accuracy: 0.8283\n",
            "Epoch 3/5\n",
            "625/625 [==============================] - 2s 3ms/step - loss: 0.3817 - accuracy: 0.8500 - val_loss: 0.3813 - val_accuracy: 0.8429\n",
            "Epoch 4/5\n",
            "625/625 [==============================] - 2s 2ms/step - loss: 0.3509 - accuracy: 0.8591 - val_loss: 0.3617 - val_accuracy: 0.8500\n",
            "Epoch 5/5\n",
            "625/625 [==============================] - 2s 3ms/step - loss: 0.3328 - accuracy: 0.8648 - val_loss: 0.3503 - val_accuracy: 0.8543\n",
            "157/157 [==============================] - 0s 2ms/step - loss: 0.3491 - accuracy: 0.8536\n",
            "Epoch 1/5\n",
            "625/625 [==============================] - 2s 3ms/step - loss: 0.6265 - accuracy: 0.6711 - val_loss: 0.5497 - val_accuracy: 0.7621\n",
            "Epoch 2/5\n",
            "625/625 [==============================] - 2s 2ms/step - loss: 0.4809 - accuracy: 0.8051 - val_loss: 0.4455 - val_accuracy: 0.8187\n",
            "Epoch 3/5\n",
            "625/625 [==============================] - 2s 2ms/step - loss: 0.4056 - accuracy: 0.8414 - val_loss: 0.3977 - val_accuracy: 0.8380\n",
            "Epoch 4/5\n",
            "625/625 [==============================] - 2s 3ms/step - loss: 0.3679 - accuracy: 0.8555 - val_loss: 0.3724 - val_accuracy: 0.8474\n",
            "Epoch 5/5\n",
            "625/625 [==============================] - 2s 2ms/step - loss: 0.3458 - accuracy: 0.8613 - val_loss: 0.3577 - val_accuracy: 0.8514\n",
            "157/157 [==============================] - 0s 2ms/step - loss: 0.3526 - accuracy: 0.8540\n",
            "Epoch 1/5\n",
            "625/625 [==============================] - 2s 3ms/step - loss: 0.6290 - accuracy: 0.6737 - val_loss: 0.5552 - val_accuracy: 0.7746\n",
            "Epoch 2/5\n",
            "625/625 [==============================] - 2s 2ms/step - loss: 0.4908 - accuracy: 0.8145 - val_loss: 0.4534 - val_accuracy: 0.8265\n",
            "Epoch 3/5\n",
            "625/625 [==============================] - 2s 3ms/step - loss: 0.4144 - accuracy: 0.8426 - val_loss: 0.4035 - val_accuracy: 0.8400\n",
            "Epoch 4/5\n",
            "625/625 [==============================] - 2s 3ms/step - loss: 0.3740 - accuracy: 0.8537 - val_loss: 0.3760 - val_accuracy: 0.8474\n",
            "Epoch 5/5\n",
            "625/625 [==============================] - 2s 3ms/step - loss: 0.3504 - accuracy: 0.8600 - val_loss: 0.3602 - val_accuracy: 0.8526\n",
            "157/157 [==============================] - 0s 2ms/step - loss: 0.3543 - accuracy: 0.8578\n",
            "Epoch 1/5\n",
            "625/625 [==============================] - 2s 3ms/step - loss: 0.5879 - accuracy: 0.7113 - val_loss: 0.4944 - val_accuracy: 0.8009\n",
            "Epoch 2/5\n",
            "625/625 [==============================] - 2s 2ms/step - loss: 0.4278 - accuracy: 0.8314 - val_loss: 0.4020 - val_accuracy: 0.8339\n",
            "Epoch 3/5\n",
            "625/625 [==============================] - 2s 2ms/step - loss: 0.3623 - accuracy: 0.8569 - val_loss: 0.3670 - val_accuracy: 0.8458\n",
            "Epoch 4/5\n",
            "625/625 [==============================] - 2s 3ms/step - loss: 0.3330 - accuracy: 0.8666 - val_loss: 0.3519 - val_accuracy: 0.8496\n",
            "Epoch 5/5\n",
            "625/625 [==============================] - 2s 2ms/step - loss: 0.3173 - accuracy: 0.8719 - val_loss: 0.3446 - val_accuracy: 0.8535\n",
            "157/157 [==============================] - 1s 3ms/step - loss: 0.3388 - accuracy: 0.8622\n",
            "Epoch 1/5\n",
            "625/625 [==============================] - 2s 3ms/step - loss: 0.6021 - accuracy: 0.6945 - val_loss: 0.5009 - val_accuracy: 0.8018\n",
            "Epoch 2/5\n",
            "625/625 [==============================] - 2s 3ms/step - loss: 0.4320 - accuracy: 0.8310 - val_loss: 0.4032 - val_accuracy: 0.8385\n",
            "Epoch 3/5\n",
            "625/625 [==============================] - 2s 3ms/step - loss: 0.3657 - accuracy: 0.8553 - val_loss: 0.3671 - val_accuracy: 0.8488\n",
            "Epoch 4/5\n",
            "625/625 [==============================] - 2s 2ms/step - loss: 0.3364 - accuracy: 0.8646 - val_loss: 0.3501 - val_accuracy: 0.8540\n",
            "Epoch 5/5\n",
            "625/625 [==============================] - 2s 3ms/step - loss: 0.3209 - accuracy: 0.8708 - val_loss: 0.3426 - val_accuracy: 0.8576\n",
            "157/157 [==============================] - 0s 2ms/step - loss: 0.3326 - accuracy: 0.8582\n",
            "Epoch 1/5\n",
            "625/625 [==============================] - 2s 3ms/step - loss: 0.5936 - accuracy: 0.6956 - val_loss: 0.4849 - val_accuracy: 0.8038\n",
            "Epoch 2/5\n",
            "625/625 [==============================] - 2s 3ms/step - loss: 0.4175 - accuracy: 0.8334 - val_loss: 0.3913 - val_accuracy: 0.8434\n",
            "Epoch 3/5\n",
            "625/625 [==============================] - 2s 3ms/step - loss: 0.3557 - accuracy: 0.8580 - val_loss: 0.3592 - val_accuracy: 0.8518\n",
            "Epoch 4/5\n",
            "625/625 [==============================] - 2s 3ms/step - loss: 0.3290 - accuracy: 0.8679 - val_loss: 0.3457 - val_accuracy: 0.8550\n",
            "Epoch 5/5\n",
            "625/625 [==============================] - 2s 3ms/step - loss: 0.3149 - accuracy: 0.8718 - val_loss: 0.3387 - val_accuracy: 0.8580\n",
            "157/157 [==============================] - 0s 2ms/step - loss: 0.3419 - accuracy: 0.8544\n",
            "Epoch 1/5\n",
            "625/625 [==============================] - 2s 3ms/step - loss: 0.5823 - accuracy: 0.7158 - val_loss: 0.4792 - val_accuracy: 0.8066\n",
            "Epoch 2/5\n",
            "625/625 [==============================] - 2s 3ms/step - loss: 0.4160 - accuracy: 0.8349 - val_loss: 0.3909 - val_accuracy: 0.8399\n",
            "Epoch 3/5\n",
            "625/625 [==============================] - 2s 2ms/step - loss: 0.3569 - accuracy: 0.8550 - val_loss: 0.3590 - val_accuracy: 0.8529\n",
            "Epoch 4/5\n",
            "625/625 [==============================] - 2s 2ms/step - loss: 0.3315 - accuracy: 0.8659 - val_loss: 0.3453 - val_accuracy: 0.8570\n",
            "Epoch 5/5\n",
            "625/625 [==============================] - 2s 2ms/step - loss: 0.3175 - accuracy: 0.8696 - val_loss: 0.3391 - val_accuracy: 0.8578\n",
            "157/157 [==============================] - 0s 2ms/step - loss: 0.3362 - accuracy: 0.8594\n",
            "Epoch 1/5\n",
            "625/625 [==============================] - 2s 3ms/step - loss: 0.5774 - accuracy: 0.7165 - val_loss: 0.4750 - val_accuracy: 0.8078\n",
            "Epoch 2/5\n",
            "625/625 [==============================] - 2s 3ms/step - loss: 0.4131 - accuracy: 0.8371 - val_loss: 0.3880 - val_accuracy: 0.8427\n",
            "Epoch 3/5\n",
            "625/625 [==============================] - 2s 3ms/step - loss: 0.3548 - accuracy: 0.8572 - val_loss: 0.3580 - val_accuracy: 0.8522\n",
            "Epoch 4/5\n",
            "625/625 [==============================] - 2s 3ms/step - loss: 0.3301 - accuracy: 0.8665 - val_loss: 0.3451 - val_accuracy: 0.8549\n",
            "Epoch 5/5\n",
            "625/625 [==============================] - 2s 3ms/step - loss: 0.3174 - accuracy: 0.8699 - val_loss: 0.3396 - val_accuracy: 0.8570\n",
            "157/157 [==============================] - 0s 2ms/step - loss: 0.3329 - accuracy: 0.8616\n",
            "Epoch 1/5\n",
            "625/625 [==============================] - 2s 3ms/step - loss: 0.5544 - accuracy: 0.7423 - val_loss: 0.4513 - val_accuracy: 0.8170\n",
            "Epoch 2/5\n",
            "625/625 [==============================] - 2s 2ms/step - loss: 0.3925 - accuracy: 0.8450 - val_loss: 0.3757 - val_accuracy: 0.8449\n",
            "Epoch 3/5\n",
            "625/625 [==============================] - 2s 3ms/step - loss: 0.3418 - accuracy: 0.8634 - val_loss: 0.3520 - val_accuracy: 0.8519\n",
            "Epoch 4/5\n",
            "625/625 [==============================] - 2s 2ms/step - loss: 0.3205 - accuracy: 0.8691 - val_loss: 0.3427 - val_accuracy: 0.8550\n",
            "Epoch 5/5\n",
            "625/625 [==============================] - 2s 2ms/step - loss: 0.3090 - accuracy: 0.8749 - val_loss: 0.3392 - val_accuracy: 0.8555\n",
            "157/157 [==============================] - 0s 2ms/step - loss: 0.3354 - accuracy: 0.8610\n",
            "Epoch 1/5\n",
            "625/625 [==============================] - 2s 3ms/step - loss: 0.5617 - accuracy: 0.7296 - val_loss: 0.4519 - val_accuracy: 0.8194\n",
            "Epoch 2/5\n",
            "625/625 [==============================] - 2s 3ms/step - loss: 0.3921 - accuracy: 0.8443 - val_loss: 0.3731 - val_accuracy: 0.8486\n",
            "Epoch 3/5\n",
            "625/625 [==============================] - 2s 3ms/step - loss: 0.3416 - accuracy: 0.8634 - val_loss: 0.3499 - val_accuracy: 0.8541\n",
            "Epoch 4/5\n",
            "625/625 [==============================] - 2s 3ms/step - loss: 0.3211 - accuracy: 0.8691 - val_loss: 0.3404 - val_accuracy: 0.8574\n",
            "Epoch 5/5\n",
            "625/625 [==============================] - 2s 2ms/step - loss: 0.3102 - accuracy: 0.8737 - val_loss: 0.3365 - val_accuracy: 0.8586\n",
            "157/157 [==============================] - 0s 2ms/step - loss: 0.3270 - accuracy: 0.8596\n",
            "Epoch 1/5\n",
            "625/625 [==============================] - 2s 3ms/step - loss: 0.5699 - accuracy: 0.7217 - val_loss: 0.4517 - val_accuracy: 0.8222\n",
            "Epoch 2/5\n",
            "625/625 [==============================] - 2s 2ms/step - loss: 0.3918 - accuracy: 0.8450 - val_loss: 0.3724 - val_accuracy: 0.8499\n",
            "Epoch 3/5\n",
            "625/625 [==============================] - 2s 3ms/step - loss: 0.3403 - accuracy: 0.8636 - val_loss: 0.3489 - val_accuracy: 0.8533\n",
            "Epoch 4/5\n",
            "625/625 [==============================] - 2s 3ms/step - loss: 0.3192 - accuracy: 0.8691 - val_loss: 0.3403 - val_accuracy: 0.8554\n",
            "Epoch 5/5\n",
            "625/625 [==============================] - 2s 3ms/step - loss: 0.3080 - accuracy: 0.8738 - val_loss: 0.3359 - val_accuracy: 0.8569\n",
            "157/157 [==============================] - 0s 2ms/step - loss: 0.3380 - accuracy: 0.8558\n",
            "Epoch 1/5\n",
            "625/625 [==============================] - 2s 3ms/step - loss: 0.5655 - accuracy: 0.7316 - val_loss: 0.4529 - val_accuracy: 0.8202\n",
            "Epoch 2/5\n",
            "625/625 [==============================] - 2s 3ms/step - loss: 0.3933 - accuracy: 0.8450 - val_loss: 0.3729 - val_accuracy: 0.8479\n",
            "Epoch 3/5\n",
            "625/625 [==============================] - 2s 3ms/step - loss: 0.3417 - accuracy: 0.8612 - val_loss: 0.3475 - val_accuracy: 0.8549\n",
            "Epoch 4/5\n",
            "625/625 [==============================] - 2s 3ms/step - loss: 0.3212 - accuracy: 0.8685 - val_loss: 0.3386 - val_accuracy: 0.8578\n",
            "Epoch 5/5\n",
            "625/625 [==============================] - 2s 3ms/step - loss: 0.3101 - accuracy: 0.8717 - val_loss: 0.3354 - val_accuracy: 0.8584\n",
            "157/157 [==============================] - 0s 2ms/step - loss: 0.3311 - accuracy: 0.8622\n",
            "Epoch 1/5\n",
            "625/625 [==============================] - 2s 3ms/step - loss: 0.5460 - accuracy: 0.7490 - val_loss: 0.4392 - val_accuracy: 0.8254\n",
            "Epoch 2/5\n",
            "625/625 [==============================] - 2s 3ms/step - loss: 0.3850 - accuracy: 0.8451 - val_loss: 0.3703 - val_accuracy: 0.8470\n",
            "Epoch 3/5\n",
            "625/625 [==============================] - 2s 3ms/step - loss: 0.3394 - accuracy: 0.8609 - val_loss: 0.3490 - val_accuracy: 0.8538\n",
            "Epoch 4/5\n",
            "625/625 [==============================] - 2s 2ms/step - loss: 0.3202 - accuracy: 0.8672 - val_loss: 0.3407 - val_accuracy: 0.8562\n",
            "Epoch 5/5\n",
            "625/625 [==============================] - 2s 2ms/step - loss: 0.3102 - accuracy: 0.8720 - val_loss: 0.3382 - val_accuracy: 0.8563\n",
            "157/157 [==============================] - 0s 2ms/step - loss: 0.3277 - accuracy: 0.8640\n",
            "Epoch 1/5\n",
            "625/625 [==============================] - 2s 3ms/step - loss: 0.7187 - accuracy: 0.4960 - val_loss: 0.7030 - val_accuracy: 0.5041\n",
            "Epoch 2/5\n",
            "625/625 [==============================] - 2s 3ms/step - loss: 0.6923 - accuracy: 0.5291 - val_loss: 0.6878 - val_accuracy: 0.5436\n",
            "Epoch 3/5\n",
            "625/625 [==============================] - 2s 3ms/step - loss: 0.6790 - accuracy: 0.5699 - val_loss: 0.6759 - val_accuracy: 0.5806\n",
            "Epoch 4/5\n",
            "625/625 [==============================] - 2s 3ms/step - loss: 0.6660 - accuracy: 0.6108 - val_loss: 0.6631 - val_accuracy: 0.6148\n",
            "Epoch 5/5\n",
            "625/625 [==============================] - 2s 3ms/step - loss: 0.6515 - accuracy: 0.6437 - val_loss: 0.6487 - val_accuracy: 0.6494\n",
            "157/157 [==============================] - 0s 2ms/step - loss: 0.6480 - accuracy: 0.6532\n",
            "Epoch 1/5\n",
            "625/625 [==============================] - 2s 3ms/step - loss: 0.6981 - accuracy: 0.5081 - val_loss: 0.6934 - val_accuracy: 0.5220\n",
            "Epoch 2/5\n",
            "625/625 [==============================] - 2s 3ms/step - loss: 0.6873 - accuracy: 0.5430 - val_loss: 0.6842 - val_accuracy: 0.5555\n",
            "Epoch 3/5\n",
            "625/625 [==============================] - 2s 3ms/step - loss: 0.6777 - accuracy: 0.5758 - val_loss: 0.6750 - val_accuracy: 0.5878\n",
            "Epoch 4/5\n",
            "625/625 [==============================] - 2s 3ms/step - loss: 0.6672 - accuracy: 0.6094 - val_loss: 0.6644 - val_accuracy: 0.6216\n",
            "Epoch 5/5\n",
            "625/625 [==============================] - 2s 3ms/step - loss: 0.6550 - accuracy: 0.6410 - val_loss: 0.6516 - val_accuracy: 0.6518\n",
            "157/157 [==============================] - 0s 2ms/step - loss: 0.6494 - accuracy: 0.6522\n",
            "Epoch 1/5\n",
            "625/625 [==============================] - 2s 3ms/step - loss: 0.6997 - accuracy: 0.5063 - val_loss: 0.6925 - val_accuracy: 0.5220\n",
            "Epoch 2/5\n",
            "625/625 [==============================] - 2s 3ms/step - loss: 0.6879 - accuracy: 0.5442 - val_loss: 0.6822 - val_accuracy: 0.5596\n",
            "Epoch 3/5\n",
            "625/625 [==============================] - 2s 3ms/step - loss: 0.6772 - accuracy: 0.5796 - val_loss: 0.6724 - val_accuracy: 0.5933\n",
            "Epoch 4/5\n",
            "625/625 [==============================] - 2s 3ms/step - loss: 0.6663 - accuracy: 0.6144 - val_loss: 0.6619 - val_accuracy: 0.6224\n",
            "Epoch 5/5\n",
            "625/625 [==============================] - 2s 3ms/step - loss: 0.6542 - accuracy: 0.6424 - val_loss: 0.6499 - val_accuracy: 0.6490\n",
            "157/157 [==============================] - 0s 2ms/step - loss: 0.6515 - accuracy: 0.6500\n",
            "Epoch 1/5\n",
            "625/625 [==============================] - 2s 3ms/step - loss: 0.6942 - accuracy: 0.5157 - val_loss: 0.6905 - val_accuracy: 0.5335\n",
            "Epoch 2/5\n",
            "625/625 [==============================] - 2s 3ms/step - loss: 0.6875 - accuracy: 0.5405 - val_loss: 0.6843 - val_accuracy: 0.5598\n",
            "Epoch 3/5\n",
            "625/625 [==============================] - 2s 3ms/step - loss: 0.6802 - accuracy: 0.5663 - val_loss: 0.6764 - val_accuracy: 0.5846\n",
            "Epoch 4/5\n",
            "625/625 [==============================] - 2s 3ms/step - loss: 0.6704 - accuracy: 0.5953 - val_loss: 0.6653 - val_accuracy: 0.6077\n",
            "Epoch 5/5\n",
            "625/625 [==============================] - 2s 3ms/step - loss: 0.6571 - accuracy: 0.6224 - val_loss: 0.6509 - val_accuracy: 0.6361\n",
            "157/157 [==============================] - 0s 2ms/step - loss: 0.6455 - accuracy: 0.6494\n",
            "Epoch 1/5\n",
            "625/625 [==============================] - 2s 3ms/step - loss: 0.6982 - accuracy: 0.5208 - val_loss: 0.6888 - val_accuracy: 0.5385\n",
            "Epoch 2/5\n",
            "625/625 [==============================] - 2s 3ms/step - loss: 0.6822 - accuracy: 0.5618 - val_loss: 0.6747 - val_accuracy: 0.5768\n",
            "Epoch 3/5\n",
            "625/625 [==============================] - 2s 3ms/step - loss: 0.6673 - accuracy: 0.5990 - val_loss: 0.6605 - val_accuracy: 0.6155\n",
            "Epoch 4/5\n",
            "625/625 [==============================] - 2s 3ms/step - loss: 0.6521 - accuracy: 0.6343 - val_loss: 0.6456 - val_accuracy: 0.6458\n",
            "Epoch 5/5\n",
            "625/625 [==============================] - 2s 3ms/step - loss: 0.6358 - accuracy: 0.6636 - val_loss: 0.6298 - val_accuracy: 0.6742\n",
            "157/157 [==============================] - 0s 2ms/step - loss: 0.6260 - accuracy: 0.6766\n",
            "Epoch 1/5\n",
            "625/625 [==============================] - 2s 3ms/step - loss: 0.6949 - accuracy: 0.5347 - val_loss: 0.6792 - val_accuracy: 0.5712\n",
            "Epoch 2/5\n",
            "625/625 [==============================] - 2s 3ms/step - loss: 0.6690 - accuracy: 0.5955 - val_loss: 0.6565 - val_accuracy: 0.6299\n",
            "Epoch 3/5\n",
            "625/625 [==============================] - 2s 3ms/step - loss: 0.6444 - accuracy: 0.6494 - val_loss: 0.6331 - val_accuracy: 0.6760\n",
            "Epoch 4/5\n",
            "625/625 [==============================] - 2s 3ms/step - loss: 0.6186 - accuracy: 0.6915 - val_loss: 0.6088 - val_accuracy: 0.7103\n",
            "Epoch 5/5\n",
            "625/625 [==============================] - 2s 3ms/step - loss: 0.5922 - accuracy: 0.7235 - val_loss: 0.5842 - val_accuracy: 0.7369\n",
            "157/157 [==============================] - 0s 2ms/step - loss: 0.5850 - accuracy: 0.7276\n",
            "Epoch 1/5\n",
            "625/625 [==============================] - 2s 3ms/step - loss: 0.7127 - accuracy: 0.4809 - val_loss: 0.6979 - val_accuracy: 0.5142\n",
            "Epoch 2/5\n",
            "625/625 [==============================] - 2s 3ms/step - loss: 0.6851 - accuracy: 0.5509 - val_loss: 0.6731 - val_accuracy: 0.5827\n",
            "Epoch 3/5\n",
            "625/625 [==============================] - 2s 3ms/step - loss: 0.6582 - accuracy: 0.6193 - val_loss: 0.6471 - val_accuracy: 0.6415\n",
            "Epoch 4/5\n",
            "625/625 [==============================] - 2s 3ms/step - loss: 0.6292 - accuracy: 0.6772 - val_loss: 0.6194 - val_accuracy: 0.6924\n",
            "Epoch 5/5\n",
            "625/625 [==============================] - 2s 3ms/step - loss: 0.5993 - accuracy: 0.7208 - val_loss: 0.5912 - val_accuracy: 0.7249\n",
            "157/157 [==============================] - 0s 2ms/step - loss: 0.5909 - accuracy: 0.7262\n",
            "Epoch 1/5\n",
            "625/625 [==============================] - 2s 3ms/step - loss: 0.7197 - accuracy: 0.5149 - val_loss: 0.6893 - val_accuracy: 0.5425\n",
            "Epoch 2/5\n",
            "625/625 [==============================] - 2s 3ms/step - loss: 0.6725 - accuracy: 0.5772 - val_loss: 0.6621 - val_accuracy: 0.6026\n",
            "Epoch 3/5\n",
            "625/625 [==============================] - 2s 3ms/step - loss: 0.6450 - accuracy: 0.6371 - val_loss: 0.6371 - val_accuracy: 0.6522\n",
            "Epoch 4/5\n",
            "625/625 [==============================] - 2s 3ms/step - loss: 0.6192 - accuracy: 0.6840 - val_loss: 0.6131 - val_accuracy: 0.6934\n",
            "Epoch 5/5\n",
            "625/625 [==============================] - 2s 3ms/step - loss: 0.5942 - accuracy: 0.7209 - val_loss: 0.5898 - val_accuracy: 0.7225\n",
            "157/157 [==============================] - 0s 2ms/step - loss: 0.5838 - accuracy: 0.7304\n",
            "Epoch 1/5\n",
            "625/625 [==============================] - 2s 3ms/step - loss: 0.6863 - accuracy: 0.5491 - val_loss: 0.6760 - val_accuracy: 0.5770\n",
            "Epoch 2/5\n",
            "625/625 [==============================] - 2s 3ms/step - loss: 0.6605 - accuracy: 0.6140 - val_loss: 0.6516 - val_accuracy: 0.6330\n",
            "Epoch 3/5\n",
            "625/625 [==============================] - 2s 3ms/step - loss: 0.6343 - accuracy: 0.6658 - val_loss: 0.6263 - val_accuracy: 0.6805\n",
            "Epoch 4/5\n",
            "625/625 [==============================] - 2s 3ms/step - loss: 0.6071 - accuracy: 0.7056 - val_loss: 0.6004 - val_accuracy: 0.7135\n",
            "Epoch 5/5\n",
            "625/625 [==============================] - 2s 3ms/step - loss: 0.5798 - accuracy: 0.7401 - val_loss: 0.5748 - val_accuracy: 0.7426\n",
            "157/157 [==============================] - 0s 2ms/step - loss: 0.5700 - accuracy: 0.7476\n",
            "Epoch 1/5\n",
            "625/625 [==============================] - 2s 3ms/step - loss: 0.7019 - accuracy: 0.5104 - val_loss: 0.6893 - val_accuracy: 0.5320\n",
            "Epoch 2/5\n",
            "625/625 [==============================] - 2s 3ms/step - loss: 0.6787 - accuracy: 0.5691 - val_loss: 0.6697 - val_accuracy: 0.5916\n",
            "Epoch 3/5\n",
            "625/625 [==============================] - 2s 3ms/step - loss: 0.6573 - accuracy: 0.6279 - val_loss: 0.6486 - val_accuracy: 0.6475\n",
            "Epoch 4/5\n",
            "625/625 [==============================] - 2s 3ms/step - loss: 0.6338 - accuracy: 0.6785 - val_loss: 0.6250 - val_accuracy: 0.6948\n",
            "Epoch 5/5\n",
            "625/625 [==============================] - 2s 3ms/step - loss: 0.6082 - accuracy: 0.7200 - val_loss: 0.6003 - val_accuracy: 0.7282\n",
            "157/157 [==============================] - 0s 2ms/step - loss: 0.5977 - accuracy: 0.7336\n",
            "Epoch 1/5\n",
            "625/625 [==============================] - 2s 3ms/step - loss: 0.6977 - accuracy: 0.5170 - val_loss: 0.6823 - val_accuracy: 0.5574\n",
            "Epoch 2/5\n",
            "625/625 [==============================] - 2s 3ms/step - loss: 0.6645 - accuracy: 0.6021 - val_loss: 0.6519 - val_accuracy: 0.6321\n",
            "Epoch 3/5\n",
            "625/625 [==============================] - 2s 3ms/step - loss: 0.6323 - accuracy: 0.6722 - val_loss: 0.6208 - val_accuracy: 0.6895\n",
            "Epoch 4/5\n",
            "625/625 [==============================] - 2s 3ms/step - loss: 0.5990 - accuracy: 0.7236 - val_loss: 0.5890 - val_accuracy: 0.7294\n",
            "Epoch 5/5\n",
            "625/625 [==============================] - 2s 3ms/step - loss: 0.5660 - accuracy: 0.7595 - val_loss: 0.5585 - val_accuracy: 0.7599\n",
            "157/157 [==============================] - 0s 2ms/step - loss: 0.5517 - accuracy: 0.7722\n",
            "Epoch 1/5\n",
            "625/625 [==============================] - 2s 3ms/step - loss: 0.6967 - accuracy: 0.5238 - val_loss: 0.6764 - val_accuracy: 0.5774\n",
            "Epoch 2/5\n",
            "625/625 [==============================] - 2s 3ms/step - loss: 0.6609 - accuracy: 0.6089 - val_loss: 0.6449 - val_accuracy: 0.6505\n",
            "Epoch 3/5\n",
            "625/625 [==============================] - 2s 3ms/step - loss: 0.6277 - accuracy: 0.6783 - val_loss: 0.6136 - val_accuracy: 0.7045\n",
            "Epoch 4/5\n",
            "625/625 [==============================] - 2s 3ms/step - loss: 0.5948 - accuracy: 0.7268 - val_loss: 0.5830 - val_accuracy: 0.7400\n",
            "Epoch 5/5\n",
            "625/625 [==============================] - 2s 3ms/step - loss: 0.5630 - accuracy: 0.7582 - val_loss: 0.5538 - val_accuracy: 0.7672\n",
            "157/157 [==============================] - 0s 2ms/step - loss: 0.5492 - accuracy: 0.7678\n",
            "Epoch 1/5\n",
            "625/625 [==============================] - 2s 3ms/step - loss: 0.7112 - accuracy: 0.5210 - val_loss: 0.6804 - val_accuracy: 0.5592\n",
            "Epoch 2/5\n",
            "625/625 [==============================] - 2s 3ms/step - loss: 0.6634 - accuracy: 0.6018 - val_loss: 0.6524 - val_accuracy: 0.6285\n",
            "Epoch 3/5\n",
            "625/625 [==============================] - 2s 3ms/step - loss: 0.6334 - accuracy: 0.6678 - val_loss: 0.6237 - val_accuracy: 0.6862\n",
            "Epoch 4/5\n",
            "625/625 [==============================] - 2s 2ms/step - loss: 0.6024 - accuracy: 0.7193 - val_loss: 0.5941 - val_accuracy: 0.7240\n",
            "Epoch 5/5\n",
            "625/625 [==============================] - 2s 3ms/step - loss: 0.5715 - accuracy: 0.7529 - val_loss: 0.5648 - val_accuracy: 0.7530\n",
            "157/157 [==============================] - 0s 2ms/step - loss: 0.5593 - accuracy: 0.7688\n",
            "Epoch 1/5\n",
            "625/625 [==============================] - 2s 3ms/step - loss: 0.6933 - accuracy: 0.5258 - val_loss: 0.6799 - val_accuracy: 0.5698\n",
            "Epoch 2/5\n",
            "625/625 [==============================] - 2s 3ms/step - loss: 0.6664 - accuracy: 0.6083 - val_loss: 0.6559 - val_accuracy: 0.6388\n",
            "Epoch 3/5\n",
            "625/625 [==============================] - 2s 3ms/step - loss: 0.6398 - accuracy: 0.6733 - val_loss: 0.6299 - val_accuracy: 0.6927\n",
            "Epoch 4/5\n",
            "625/625 [==============================] - 2s 3ms/step - loss: 0.6111 - accuracy: 0.7190 - val_loss: 0.6022 - val_accuracy: 0.7268\n",
            "Epoch 5/5\n",
            "625/625 [==============================] - 2s 3ms/step - loss: 0.5817 - accuracy: 0.7519 - val_loss: 0.5743 - val_accuracy: 0.7558\n",
            "157/157 [==============================] - 0s 2ms/step - loss: 0.5722 - accuracy: 0.7520\n",
            "Epoch 1/5\n",
            "625/625 [==============================] - 2s 3ms/step - loss: 0.6804 - accuracy: 0.5663 - val_loss: 0.6640 - val_accuracy: 0.6130\n",
            "Epoch 2/5\n",
            "625/625 [==============================] - 2s 3ms/step - loss: 0.6522 - accuracy: 0.6378 - val_loss: 0.6376 - val_accuracy: 0.6741\n",
            "Epoch 3/5\n",
            "625/625 [==============================] - 2s 3ms/step - loss: 0.6232 - accuracy: 0.6943 - val_loss: 0.6094 - val_accuracy: 0.7162\n",
            "Epoch 4/5\n",
            "625/625 [==============================] - 2s 3ms/step - loss: 0.5928 - accuracy: 0.7344 - val_loss: 0.5804 - val_accuracy: 0.7456\n",
            "Epoch 5/5\n",
            "625/625 [==============================] - 2s 3ms/step - loss: 0.5629 - accuracy: 0.7617 - val_loss: 0.5530 - val_accuracy: 0.7692\n",
            "157/157 [==============================] - 0s 2ms/step - loss: 0.5465 - accuracy: 0.7806\n",
            "Epoch 1/5\n",
            "625/625 [==============================] - 2s 3ms/step - loss: 0.5569 - accuracy: 0.7192 - val_loss: 0.4451 - val_accuracy: 0.8180\n",
            "Epoch 2/5\n",
            "625/625 [==============================] - 2s 3ms/step - loss: 0.3887 - accuracy: 0.8450 - val_loss: 0.3735 - val_accuracy: 0.8489\n",
            "Epoch 3/5\n",
            "625/625 [==============================] - 2s 3ms/step - loss: 0.3405 - accuracy: 0.8615 - val_loss: 0.3504 - val_accuracy: 0.8544\n",
            "Epoch 4/5\n",
            "625/625 [==============================] - 2s 3ms/step - loss: 0.3202 - accuracy: 0.8691 - val_loss: 0.3421 - val_accuracy: 0.8551\n",
            "Epoch 5/5\n",
            "625/625 [==============================] - 2s 3ms/step - loss: 0.3094 - accuracy: 0.8744 - val_loss: 0.3385 - val_accuracy: 0.8563\n",
            "157/157 [==============================] - 0s 2ms/step - loss: 0.3340 - accuracy: 0.8608\n",
            "Epoch 1/5\n",
            "625/625 [==============================] - 2s 3ms/step - loss: 0.5610 - accuracy: 0.7272 - val_loss: 0.4493 - val_accuracy: 0.8192\n",
            "Epoch 2/5\n",
            "625/625 [==============================] - 2s 3ms/step - loss: 0.3906 - accuracy: 0.8490 - val_loss: 0.3753 - val_accuracy: 0.8470\n",
            "Epoch 3/5\n",
            "625/625 [==============================] - 2s 3ms/step - loss: 0.3421 - accuracy: 0.8633 - val_loss: 0.3519 - val_accuracy: 0.8519\n",
            "Epoch 4/5\n",
            "625/625 [==============================] - 2s 3ms/step - loss: 0.3221 - accuracy: 0.8697 - val_loss: 0.3418 - val_accuracy: 0.8544\n",
            "Epoch 5/5\n",
            "625/625 [==============================] - 2s 3ms/step - loss: 0.3116 - accuracy: 0.8737 - val_loss: 0.3375 - val_accuracy: 0.8574\n",
            "157/157 [==============================] - 0s 2ms/step - loss: 0.3263 - accuracy: 0.8590\n",
            "Epoch 1/5\n",
            "625/625 [==============================] - 2s 3ms/step - loss: 0.5514 - accuracy: 0.7335 - val_loss: 0.4374 - val_accuracy: 0.8246\n",
            "Epoch 2/5\n",
            "625/625 [==============================] - 2s 3ms/step - loss: 0.3845 - accuracy: 0.8482 - val_loss: 0.3696 - val_accuracy: 0.8490\n",
            "Epoch 3/5\n",
            "625/625 [==============================] - 2s 3ms/step - loss: 0.3380 - accuracy: 0.8647 - val_loss: 0.3480 - val_accuracy: 0.8555\n",
            "Epoch 4/5\n",
            "625/625 [==============================] - 2s 3ms/step - loss: 0.3183 - accuracy: 0.8700 - val_loss: 0.3401 - val_accuracy: 0.8575\n",
            "Epoch 5/5\n",
            "625/625 [==============================] - 2s 3ms/step - loss: 0.3080 - accuracy: 0.8730 - val_loss: 0.3358 - val_accuracy: 0.8565\n",
            "157/157 [==============================] - 0s 2ms/step - loss: 0.3380 - accuracy: 0.8562\n",
            "Epoch 1/5\n",
            "625/625 [==============================] - 2s 3ms/step - loss: 0.5700 - accuracy: 0.7268 - val_loss: 0.4592 - val_accuracy: 0.8199\n",
            "Epoch 2/5\n",
            "625/625 [==============================] - 2s 3ms/step - loss: 0.3981 - accuracy: 0.8425 - val_loss: 0.3770 - val_accuracy: 0.8489\n",
            "Epoch 3/5\n",
            "625/625 [==============================] - 2s 3ms/step - loss: 0.3448 - accuracy: 0.8599 - val_loss: 0.3494 - val_accuracy: 0.8554\n",
            "Epoch 4/5\n",
            "625/625 [==============================] - 2s 3ms/step - loss: 0.3232 - accuracy: 0.8681 - val_loss: 0.3393 - val_accuracy: 0.8567\n",
            "Epoch 5/5\n",
            "625/625 [==============================] - 2s 3ms/step - loss: 0.3118 - accuracy: 0.8719 - val_loss: 0.3355 - val_accuracy: 0.8586\n",
            "157/157 [==============================] - 0s 2ms/step - loss: 0.3327 - accuracy: 0.8622\n",
            "Epoch 1/5\n",
            "625/625 [==============================] - 2s 3ms/step - loss: 0.5574 - accuracy: 0.7292 - val_loss: 0.4486 - val_accuracy: 0.8197\n",
            "Epoch 2/5\n",
            "625/625 [==============================] - 2s 3ms/step - loss: 0.3929 - accuracy: 0.8451 - val_loss: 0.3756 - val_accuracy: 0.8465\n",
            "Epoch 3/5\n",
            "625/625 [==============================] - 2s 3ms/step - loss: 0.3441 - accuracy: 0.8614 - val_loss: 0.3509 - val_accuracy: 0.8542\n",
            "Epoch 4/5\n",
            "625/625 [==============================] - 2s 3ms/step - loss: 0.3229 - accuracy: 0.8681 - val_loss: 0.3410 - val_accuracy: 0.8581\n",
            "Epoch 5/5\n",
            "625/625 [==============================] - 2s 3ms/step - loss: 0.3120 - accuracy: 0.8709 - val_loss: 0.3373 - val_accuracy: 0.8565\n",
            "157/157 [==============================] - 0s 2ms/step - loss: 0.3293 - accuracy: 0.8640\n",
            "Epoch 1/5\n",
            "625/625 [==============================] - 2s 3ms/step - loss: 0.5124 - accuracy: 0.7594 - val_loss: 0.3979 - val_accuracy: 0.8380\n",
            "Epoch 2/5\n",
            "625/625 [==============================] - 2s 3ms/step - loss: 0.3526 - accuracy: 0.8551 - val_loss: 0.3492 - val_accuracy: 0.8526\n",
            "Epoch 3/5\n",
            "625/625 [==============================] - 2s 3ms/step - loss: 0.3194 - accuracy: 0.8683 - val_loss: 0.3399 - val_accuracy: 0.8559\n",
            "Epoch 4/5\n",
            "625/625 [==============================] - 2s 3ms/step - loss: 0.3067 - accuracy: 0.8728 - val_loss: 0.3394 - val_accuracy: 0.8549\n",
            "Epoch 5/5\n",
            "625/625 [==============================] - 2s 3ms/step - loss: 0.3004 - accuracy: 0.8761 - val_loss: 0.3415 - val_accuracy: 0.8539\n",
            "157/157 [==============================] - 0s 2ms/step - loss: 0.3380 - accuracy: 0.8610\n",
            "Epoch 1/5\n",
            "625/625 [==============================] - 2s 3ms/step - loss: 0.5156 - accuracy: 0.7678 - val_loss: 0.3988 - val_accuracy: 0.8379\n",
            "Epoch 2/5\n",
            "625/625 [==============================] - 2s 3ms/step - loss: 0.3525 - accuracy: 0.8583 - val_loss: 0.3492 - val_accuracy: 0.8530\n",
            "Epoch 3/5\n",
            "625/625 [==============================] - 2s 3ms/step - loss: 0.3204 - accuracy: 0.8696 - val_loss: 0.3387 - val_accuracy: 0.8565\n",
            "Epoch 4/5\n",
            "625/625 [==============================] - 2s 3ms/step - loss: 0.3088 - accuracy: 0.8742 - val_loss: 0.3377 - val_accuracy: 0.8573\n",
            "Epoch 5/5\n",
            "625/625 [==============================] - 2s 3ms/step - loss: 0.3024 - accuracy: 0.8760 - val_loss: 0.3370 - val_accuracy: 0.8569\n",
            "157/157 [==============================] - 0s 2ms/step - loss: 0.3269 - accuracy: 0.8624\n",
            "Epoch 1/5\n",
            "625/625 [==============================] - 2s 3ms/step - loss: 0.5092 - accuracy: 0.7692 - val_loss: 0.3925 - val_accuracy: 0.8414\n",
            "Epoch 2/5\n",
            "625/625 [==============================] - 2s 3ms/step - loss: 0.3485 - accuracy: 0.8594 - val_loss: 0.3458 - val_accuracy: 0.8555\n",
            "Epoch 3/5\n",
            "625/625 [==============================] - 2s 3ms/step - loss: 0.3171 - accuracy: 0.8671 - val_loss: 0.3369 - val_accuracy: 0.8565\n",
            "Epoch 4/5\n",
            "625/625 [==============================] - 2s 3ms/step - loss: 0.3054 - accuracy: 0.8735 - val_loss: 0.3373 - val_accuracy: 0.8559\n",
            "Epoch 5/5\n",
            "625/625 [==============================] - 2s 3ms/step - loss: 0.2994 - accuracy: 0.8762 - val_loss: 0.3352 - val_accuracy: 0.8552\n",
            "157/157 [==============================] - 0s 2ms/step - loss: 0.3388 - accuracy: 0.8556\n",
            "Epoch 1/5\n",
            "625/625 [==============================] - 2s 3ms/step - loss: 0.5047 - accuracy: 0.7701 - val_loss: 0.3907 - val_accuracy: 0.8414\n",
            "Epoch 2/5\n",
            "625/625 [==============================] - 2s 3ms/step - loss: 0.3495 - accuracy: 0.8569 - val_loss: 0.3486 - val_accuracy: 0.8539\n",
            "Epoch 3/5\n",
            "625/625 [==============================] - 2s 3ms/step - loss: 0.3192 - accuracy: 0.8680 - val_loss: 0.3362 - val_accuracy: 0.8568\n",
            "Epoch 4/5\n",
            "625/625 [==============================] - 2s 3ms/step - loss: 0.3082 - accuracy: 0.8718 - val_loss: 0.3361 - val_accuracy: 0.8569\n",
            "Epoch 5/5\n",
            "625/625 [==============================] - 2s 3ms/step - loss: 0.3024 - accuracy: 0.8752 - val_loss: 0.3365 - val_accuracy: 0.8556\n",
            "157/157 [==============================] - 0s 2ms/step - loss: 0.3341 - accuracy: 0.8630\n",
            "Epoch 1/5\n",
            "625/625 [==============================] - 2s 3ms/step - loss: 0.5161 - accuracy: 0.7618 - val_loss: 0.3974 - val_accuracy: 0.8376\n",
            "Epoch 2/5\n",
            "625/625 [==============================] - 2s 3ms/step - loss: 0.3535 - accuracy: 0.8557 - val_loss: 0.3504 - val_accuracy: 0.8537\n",
            "Epoch 3/5\n",
            "625/625 [==============================] - 2s 3ms/step - loss: 0.3215 - accuracy: 0.8680 - val_loss: 0.3398 - val_accuracy: 0.8550\n",
            "Epoch 4/5\n",
            "625/625 [==============================] - 2s 3ms/step - loss: 0.3090 - accuracy: 0.8731 - val_loss: 0.3376 - val_accuracy: 0.8565\n",
            "Epoch 5/5\n",
            "625/625 [==============================] - 2s 3ms/step - loss: 0.3025 - accuracy: 0.8755 - val_loss: 0.3401 - val_accuracy: 0.8533\n",
            "157/157 [==============================] - 0s 2ms/step - loss: 0.3300 - accuracy: 0.8638\n",
            "Epoch 1/5\n",
            "625/625 [==============================] - 2s 3ms/step - loss: 0.4829 - accuracy: 0.7803 - val_loss: 0.3772 - val_accuracy: 0.8463\n",
            "Epoch 2/5\n",
            "625/625 [==============================] - 2s 3ms/step - loss: 0.3377 - accuracy: 0.8640 - val_loss: 0.3437 - val_accuracy: 0.8529\n",
            "Epoch 3/5\n",
            "625/625 [==============================] - 2s 3ms/step - loss: 0.3118 - accuracy: 0.8726 - val_loss: 0.3383 - val_accuracy: 0.8554\n",
            "Epoch 4/5\n",
            "625/625 [==============================] - 2s 3ms/step - loss: 0.3013 - accuracy: 0.8758 - val_loss: 0.3401 - val_accuracy: 0.8559\n",
            "Epoch 5/5\n",
            "625/625 [==============================] - 2s 3ms/step - loss: 0.2958 - accuracy: 0.8795 - val_loss: 0.3450 - val_accuracy: 0.8518\n",
            "157/157 [==============================] - 0s 2ms/step - loss: 0.3411 - accuracy: 0.8572\n",
            "Epoch 1/5\n",
            "625/625 [==============================] - 2s 3ms/step - loss: 0.4851 - accuracy: 0.7818 - val_loss: 0.3752 - val_accuracy: 0.8450\n",
            "Epoch 2/5\n",
            "625/625 [==============================] - 2s 3ms/step - loss: 0.3388 - accuracy: 0.8601 - val_loss: 0.3427 - val_accuracy: 0.8558\n",
            "Epoch 3/5\n",
            "625/625 [==============================] - 2s 3ms/step - loss: 0.3137 - accuracy: 0.8719 - val_loss: 0.3364 - val_accuracy: 0.8582\n",
            "Epoch 4/5\n",
            "625/625 [==============================] - 2s 3ms/step - loss: 0.3034 - accuracy: 0.8748 - val_loss: 0.3385 - val_accuracy: 0.8556\n",
            "Epoch 5/5\n",
            "625/625 [==============================] - 2s 3ms/step - loss: 0.2967 - accuracy: 0.8772 - val_loss: 0.3392 - val_accuracy: 0.8563\n",
            "157/157 [==============================] - 0s 2ms/step - loss: 0.3288 - accuracy: 0.8606\n",
            "Epoch 1/5\n",
            "625/625 [==============================] - 2s 3ms/step - loss: 0.4893 - accuracy: 0.7772 - val_loss: 0.3730 - val_accuracy: 0.8474\n",
            "Epoch 2/5\n",
            "625/625 [==============================] - 2s 3ms/step - loss: 0.3360 - accuracy: 0.8626 - val_loss: 0.3397 - val_accuracy: 0.8583\n",
            "Epoch 3/5\n",
            "625/625 [==============================] - 2s 3ms/step - loss: 0.3109 - accuracy: 0.8702 - val_loss: 0.3363 - val_accuracy: 0.8564\n",
            "Epoch 4/5\n",
            "625/625 [==============================] - 2s 3ms/step - loss: 0.3009 - accuracy: 0.8762 - val_loss: 0.3391 - val_accuracy: 0.8544\n",
            "Epoch 5/5\n",
            "625/625 [==============================] - 2s 3ms/step - loss: 0.2949 - accuracy: 0.8776 - val_loss: 0.3369 - val_accuracy: 0.8548\n",
            "157/157 [==============================] - 0s 2ms/step - loss: 0.3404 - accuracy: 0.8570\n",
            "Epoch 1/5\n",
            "625/625 [==============================] - 2s 3ms/step - loss: 0.4728 - accuracy: 0.7890 - val_loss: 0.3687 - val_accuracy: 0.8486\n",
            "Epoch 2/5\n",
            "625/625 [==============================] - 2s 3ms/step - loss: 0.3356 - accuracy: 0.8615 - val_loss: 0.3405 - val_accuracy: 0.8556\n",
            "Epoch 3/5\n",
            "625/625 [==============================] - 2s 3ms/step - loss: 0.3122 - accuracy: 0.8708 - val_loss: 0.3349 - val_accuracy: 0.8569\n",
            "Epoch 4/5\n",
            "625/625 [==============================] - 2s 3ms/step - loss: 0.3039 - accuracy: 0.8743 - val_loss: 0.3383 - val_accuracy: 0.8566\n",
            "Epoch 5/5\n",
            "625/625 [==============================] - 2s 3ms/step - loss: 0.2988 - accuracy: 0.8765 - val_loss: 0.3388 - val_accuracy: 0.8546\n",
            "157/157 [==============================] - 0s 2ms/step - loss: 0.3351 - accuracy: 0.8588\n",
            "Epoch 1/5\n",
            "625/625 [==============================] - 2s 3ms/step - loss: 0.4779 - accuracy: 0.7896 - val_loss: 0.3729 - val_accuracy: 0.8476\n",
            "Epoch 2/5\n",
            "625/625 [==============================] - 2s 3ms/step - loss: 0.3383 - accuracy: 0.8615 - val_loss: 0.3414 - val_accuracy: 0.8566\n",
            "Epoch 3/5\n",
            "625/625 [==============================] - 2s 3ms/step - loss: 0.3137 - accuracy: 0.8696 - val_loss: 0.3366 - val_accuracy: 0.8579\n",
            "Epoch 4/5\n",
            "625/625 [==============================] - 2s 3ms/step - loss: 0.3037 - accuracy: 0.8742 - val_loss: 0.3369 - val_accuracy: 0.8562\n",
            "Epoch 5/5\n",
            "625/625 [==============================] - 2s 3ms/step - loss: 0.2977 - accuracy: 0.8770 - val_loss: 0.3423 - val_accuracy: 0.8527\n",
            "157/157 [==============================] - 0s 2ms/step - loss: 0.3341 - accuracy: 0.8608\n",
            "Epoch 1/5\n",
            "782/782 [==============================] - 3s 3ms/step - loss: 0.5513 - accuracy: 0.7360 - val_loss: 0.4325 - val_accuracy: 0.8263\n",
            "Epoch 2/5\n",
            "782/782 [==============================] - 2s 3ms/step - loss: 0.3749 - accuracy: 0.8516 - val_loss: 0.3608 - val_accuracy: 0.8487\n",
            "Epoch 3/5\n",
            "782/782 [==============================] - 2s 3ms/step - loss: 0.3313 - accuracy: 0.8642 - val_loss: 0.3439 - val_accuracy: 0.8537\n",
            "Epoch 4/5\n",
            "782/782 [==============================] - 3s 3ms/step - loss: 0.3150 - accuracy: 0.8720 - val_loss: 0.3368 - val_accuracy: 0.8575\n",
            "Epoch 5/5\n",
            "782/782 [==============================] - 2s 3ms/step - loss: 0.3070 - accuracy: 0.8740 - val_loss: 0.3355 - val_accuracy: 0.8569\n"
          ],
          "name": "stdout"
        },
        {
          "output_type": "execute_result",
          "data": {
            "text/plain": [
              "GridSearchCV(cv=None, error_score=nan,\n",
              "             estimator=<tensorflow.python.keras.wrappers.scikit_learn.KerasRegressor object at 0x7fcdad85d150>,\n",
              "             iid='deprecated', n_jobs=None,\n",
              "             param_grid={'learning_rate': [0.0001, 1e-05, 0.0002],\n",
              "                         'n_units': [10, 30, 50]},\n",
              "             pre_dispatch='2*n_jobs', refit=True, return_train_score=False,\n",
              "             scoring=None, verbose=0)"
            ]
          },
          "metadata": {
            "tags": []
          },
          "execution_count": 26
        }
      ]
    },
    {
      "cell_type": "markdown",
      "metadata": {
        "id": "aadmkiOoyM94"
      },
      "source": [
        "Print the best hyper-parameters, and evealuate the best model on the test set."
      ]
    },
    {
      "cell_type": "code",
      "metadata": {
        "id": "b0nL5OZkylNX",
        "colab": {
          "base_uri": "https://localhost:8080/"
        },
        "outputId": "cb5bb8b3-3ab3-4fa9-bf3a-f1747cae2b65"
      },
      "source": [
        "print(grid_search.best_params_)\n",
        "\n",
        "model = grid_search.best_estimator_.model\n",
        "model.evaluate(X_test, y_test)"
      ],
      "execution_count": 27,
      "outputs": [
        {
          "output_type": "stream",
          "text": [
            "{'learning_rate': 0.0001, 'n_units': 50}\n",
            "391/391 [==============================] - 1s 2ms/step - loss: 0.3179 - accuracy: 0.8656\n"
          ],
          "name": "stdout"
        },
        {
          "output_type": "execute_result",
          "data": {
            "text/plain": [
              "[0.3178772032260895, 0.8655999898910522]"
            ]
          },
          "metadata": {
            "tags": []
          },
          "execution_count": 27
        }
      ]
    }
  ]
}